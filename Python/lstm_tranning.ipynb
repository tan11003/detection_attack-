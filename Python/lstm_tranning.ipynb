{
  "nbformat": 4,
  "nbformat_minor": 0,
  "metadata": {
    "colab": {
      "provenance": []
    },
    "kernelspec": {
      "name": "python3",
      "display_name": "Python 3"
    },
    "language_info": {
      "name": "python"
    }
  },
  "cells": [
    {
      "cell_type": "code",
      "source": [
        "!pip install optuna"
      ],
      "metadata": {
        "colab": {
          "base_uri": "https://localhost:8080/"
        },
        "collapsed": true,
        "id": "Y60WF_-sNHOY",
        "outputId": "f0f95206-1dd3-4ca4-a05c-e7da2cfd0976"
      },
      "execution_count": null,
      "outputs": [
        {
          "output_type": "stream",
          "name": "stdout",
          "text": [
            "Collecting optuna\n",
            "  Downloading optuna-4.4.0-py3-none-any.whl.metadata (17 kB)\n",
            "Collecting alembic>=1.5.0 (from optuna)\n",
            "  Downloading alembic-1.16.4-py3-none-any.whl.metadata (7.3 kB)\n",
            "Collecting colorlog (from optuna)\n",
            "  Downloading colorlog-6.9.0-py3-none-any.whl.metadata (10 kB)\n",
            "Requirement already satisfied: numpy in /usr/local/lib/python3.11/dist-packages (from optuna) (2.0.2)\n",
            "Requirement already satisfied: packaging>=20.0 in /usr/local/lib/python3.11/dist-packages (from optuna) (25.0)\n",
            "Requirement already satisfied: sqlalchemy>=1.4.2 in /usr/local/lib/python3.11/dist-packages (from optuna) (2.0.42)\n",
            "Requirement already satisfied: tqdm in /usr/local/lib/python3.11/dist-packages (from optuna) (4.67.1)\n",
            "Requirement already satisfied: PyYAML in /usr/local/lib/python3.11/dist-packages (from optuna) (6.0.2)\n",
            "Requirement already satisfied: Mako in /usr/lib/python3/dist-packages (from alembic>=1.5.0->optuna) (1.1.3)\n",
            "Requirement already satisfied: typing-extensions>=4.12 in /usr/local/lib/python3.11/dist-packages (from alembic>=1.5.0->optuna) (4.14.1)\n",
            "Requirement already satisfied: greenlet>=1 in /usr/local/lib/python3.11/dist-packages (from sqlalchemy>=1.4.2->optuna) (3.2.3)\n",
            "Downloading optuna-4.4.0-py3-none-any.whl (395 kB)\n",
            "\u001b[2K   \u001b[90m━━━━━━━━━━━━━━━━━━━━━━━━━━━━━━━━━━━━━━━━\u001b[0m \u001b[32m395.9/395.9 kB\u001b[0m \u001b[31m8.0 MB/s\u001b[0m eta \u001b[36m0:00:00\u001b[0m\n",
            "\u001b[?25hDownloading alembic-1.16.4-py3-none-any.whl (247 kB)\n",
            "\u001b[2K   \u001b[90m━━━━━━━━━━━━━━━━━━━━━━━━━━━━━━━━━━━━━━━━\u001b[0m \u001b[32m247.0/247.0 kB\u001b[0m \u001b[31m18.9 MB/s\u001b[0m eta \u001b[36m0:00:00\u001b[0m\n",
            "\u001b[?25hDownloading colorlog-6.9.0-py3-none-any.whl (11 kB)\n",
            "Installing collected packages: colorlog, alembic, optuna\n",
            "Successfully installed alembic-1.16.4 colorlog-6.9.0 optuna-4.4.0\n"
          ]
        }
      ]
    },
    {
      "cell_type": "code",
      "source": [
        "!pip install sweetviz"
      ],
      "metadata": {
        "colab": {
          "base_uri": "https://localhost:8080/"
        },
        "id": "yO_rIN_T8mo0",
        "outputId": "c8f7e683-457e-4ae5-976e-8aa82ccf6bba",
        "collapsed": true
      },
      "execution_count": null,
      "outputs": [
        {
          "output_type": "stream",
          "name": "stdout",
          "text": [
            "Collecting sweetviz\n",
            "  Downloading sweetviz-2.3.1-py3-none-any.whl.metadata (24 kB)\n",
            "Requirement already satisfied: pandas!=1.0.0,!=1.0.1,!=1.0.2,>=0.25.3 in /usr/local/lib/python3.11/dist-packages (from sweetviz) (2.2.2)\n",
            "Requirement already satisfied: numpy>=1.16.0 in /usr/local/lib/python3.11/dist-packages (from sweetviz) (2.0.2)\n",
            "Requirement already satisfied: matplotlib>=3.1.3 in /usr/local/lib/python3.11/dist-packages (from sweetviz) (3.10.0)\n",
            "Requirement already satisfied: tqdm>=4.43.0 in /usr/local/lib/python3.11/dist-packages (from sweetviz) (4.67.1)\n",
            "Requirement already satisfied: scipy>=1.3.2 in /usr/local/lib/python3.11/dist-packages (from sweetviz) (1.16.1)\n",
            "Requirement already satisfied: jinja2>=2.11.1 in /usr/local/lib/python3.11/dist-packages (from sweetviz) (3.1.6)\n",
            "Requirement already satisfied: importlib-resources>=1.2.0 in /usr/local/lib/python3.11/dist-packages (from sweetviz) (6.5.2)\n",
            "Requirement already satisfied: MarkupSafe>=2.0 in /usr/local/lib/python3.11/dist-packages (from jinja2>=2.11.1->sweetviz) (3.0.2)\n",
            "Requirement already satisfied: contourpy>=1.0.1 in /usr/local/lib/python3.11/dist-packages (from matplotlib>=3.1.3->sweetviz) (1.3.3)\n",
            "Requirement already satisfied: cycler>=0.10 in /usr/local/lib/python3.11/dist-packages (from matplotlib>=3.1.3->sweetviz) (0.12.1)\n",
            "Requirement already satisfied: fonttools>=4.22.0 in /usr/local/lib/python3.11/dist-packages (from matplotlib>=3.1.3->sweetviz) (4.59.0)\n",
            "Requirement already satisfied: kiwisolver>=1.3.1 in /usr/local/lib/python3.11/dist-packages (from matplotlib>=3.1.3->sweetviz) (1.4.8)\n",
            "Requirement already satisfied: packaging>=20.0 in /usr/local/lib/python3.11/dist-packages (from matplotlib>=3.1.3->sweetviz) (25.0)\n",
            "Requirement already satisfied: pillow>=8 in /usr/local/lib/python3.11/dist-packages (from matplotlib>=3.1.3->sweetviz) (11.3.0)\n",
            "Requirement already satisfied: pyparsing>=2.3.1 in /usr/local/lib/python3.11/dist-packages (from matplotlib>=3.1.3->sweetviz) (3.2.3)\n",
            "Requirement already satisfied: python-dateutil>=2.7 in /usr/local/lib/python3.11/dist-packages (from matplotlib>=3.1.3->sweetviz) (2.9.0.post0)\n",
            "Requirement already satisfied: pytz>=2020.1 in /usr/local/lib/python3.11/dist-packages (from pandas!=1.0.0,!=1.0.1,!=1.0.2,>=0.25.3->sweetviz) (2025.2)\n",
            "Requirement already satisfied: tzdata>=2022.7 in /usr/local/lib/python3.11/dist-packages (from pandas!=1.0.0,!=1.0.1,!=1.0.2,>=0.25.3->sweetviz) (2025.2)\n",
            "Requirement already satisfied: six>=1.5 in /usr/local/lib/python3.11/dist-packages (from python-dateutil>=2.7->matplotlib>=3.1.3->sweetviz) (1.17.0)\n",
            "Downloading sweetviz-2.3.1-py3-none-any.whl (15.1 MB)\n",
            "\u001b[2K   \u001b[90m━━━━━━━━━━━━━━━━━━━━━━━━━━━━━━━━━━━━━━━━\u001b[0m \u001b[32m15.1/15.1 MB\u001b[0m \u001b[31m53.5 MB/s\u001b[0m eta \u001b[36m0:00:00\u001b[0m\n",
            "\u001b[?25hInstalling collected packages: sweetviz\n",
            "Successfully installed sweetviz-2.3.1\n"
          ]
        }
      ]
    },
    {
      "cell_type": "code",
      "source": [
        "from google.colab import drive\n",
        "drive.mount('/content/drive')"
      ],
      "metadata": {
        "colab": {
          "base_uri": "https://localhost:8080/"
        },
        "id": "caKZcFQI88dV",
        "outputId": "f2a2a908-0480-4218-d75b-9951fe310a9d"
      },
      "execution_count": null,
      "outputs": [
        {
          "output_type": "stream",
          "name": "stdout",
          "text": [
            "Mounted at /content/drive\n"
          ]
        }
      ]
    },
    {
      "cell_type": "code",
      "execution_count": null,
      "metadata": {
        "colab": {
          "base_uri": "https://localhost:8080/"
        },
        "id": "vfEeRZS58eGg",
        "outputId": "d478949f-3950-498a-c393-52d84eb29d3c"
      },
      "outputs": [
        {
          "output_type": "stream",
          "name": "stdout",
          "text": [
            "Using pandas 2.2.2\n",
            "Using sklearn 1.6.1\n",
            "Using seaborn 0.13.2\n",
            "Using sweetviz 2.3.1\n",
            "Using optuna 4.4.0\n",
            "Using tensorflow 2.19.0\n",
            "Using keras 3.10.0\n",
            "Training size: 3734922\n",
            "Validation size: 933731\n"
          ]
        }
      ],
      "source": [
        "import pandas as pd\n",
        "import sklearn as sk\n",
        "import seaborn as sns\n",
        "from sklearn.preprocessing import StandardScaler\n",
        "import optuna\n",
        "from sklearn.metrics import accuracy_score, precision_score, recall_score, f1_score, confusion_matrix\n",
        "import sweetviz as sv\n",
        "#import dataprep as dp\n",
        "#from dataprep.eda import plot, plot_correlation, create_report, plot_missing\n",
        "from sklearn.model_selection import train_test_split\n",
        "from sklearn.linear_model import LinearRegression, LogisticRegression\n",
        "from sklearn.metrics import mean_squared_error, r2_score\n",
        "from sklearn.ensemble import RandomForestClassifier\n",
        "import pickle\n",
        "\n",
        "import keras\n",
        "import numpy as np\n",
        "import pandas as pd\n",
        "import matplotlib.pyplot as plt\n",
        "import seaborn as sns\n",
        "import os\n",
        "import sys\n",
        "from PIL import Image\n",
        "import warnings\n",
        "from tqdm import tqdm, trange\n",
        "import optuna\n",
        "\n",
        "import tensorflow as tf\n",
        "from tensorflow.keras.models import Model\n",
        "from tensorflow.keras import layers, regularizers, Sequential\n",
        "from tensorflow.keras.layers import Input, Dense\n",
        "from tensorflow.keras.utils import plot_model\n",
        "from tensorflow.keras.models import Sequential\n",
        "\n",
        "from sklearn.model_selection import train_test_split\n",
        "from sklearn.preprocessing import StandardScaler, OneHotEncoder\n",
        "from sklearn.cluster import KMeans\n",
        "\n",
        "for lib in [pd, sk, sns, sv, optuna, tf, keras]:\n",
        "    print(f\"Using {lib.__name__} {lib.__version__}\")\n",
        "\n",
        "RANDOM_SEED = 5\n",
        "PATH_TO_QAE_CLASS = \"../../Quantized Autoencoders (QAE)/Final Versions\"\n",
        "\n",
        "\"\"\"\n",
        "# Import the QAE class\n",
        "sys.path.append(os.path.abspath(PATH_TO_QAE_CLASS))\n",
        "from QAE import QAE\n",
        "print(\"INFO: QAE class successfully imported.\")\n",
        "\"\"\"\n",
        "\n",
        "df = pd.read_csv(\"/content/drive/MyDrive/data_ciciot2023/0.1percent_2classes.csv\")\n",
        "\n",
        "tf.random.set_seed(RANDOM_SEED)\n",
        "\n",
        "training_df, validation_df = train_test_split(df, test_size=0.2, random_state=RANDOM_SEED)\n",
        "\n",
        "print(\"Training size:\", training_df.shape[0])\n",
        "print(\"Validation size:\", validation_df.shape[0])"
      ]
    },
    {
      "cell_type": "code",
      "source": [
        "df.info()"
      ],
      "metadata": {
        "colab": {
          "base_uri": "https://localhost:8080/"
        },
        "id": "gtKdC3l685VG",
        "outputId": "fb2d47f1-62ea-4e1e-8159-ddcf7cb5d5cb"
      },
      "execution_count": null,
      "outputs": [
        {
          "output_type": "stream",
          "name": "stdout",
          "text": [
            "<class 'pandas.core.frame.DataFrame'>\n",
            "RangeIndex: 4668653 entries, 0 to 4668652\n",
            "Data columns (total 47 columns):\n",
            " #   Column           Dtype  \n",
            "---  ------           -----  \n",
            " 0   flow_duration    float64\n",
            " 1   header_length    int64  \n",
            " 2   protocol_type    object \n",
            " 3   duration         float64\n",
            " 4   rate             int64  \n",
            " 5   srate            int64  \n",
            " 6   drate            float64\n",
            " 7   fin_flag_number  bool   \n",
            " 8   syn_flag_number  bool   \n",
            " 9   rst_flag_number  bool   \n",
            " 10  psh_flag_number  bool   \n",
            " 11  ack_flag_number  bool   \n",
            " 12  ece_flag_number  bool   \n",
            " 13  cwr_flag_number  bool   \n",
            " 14  ack_count        float64\n",
            " 15  syn_count        float64\n",
            " 16  fin_count        int64  \n",
            " 17  urg_count        int64  \n",
            " 18  rst_count        int64  \n",
            " 19  http             bool   \n",
            " 20  https            bool   \n",
            " 21  dns              bool   \n",
            " 22  telnet           bool   \n",
            " 23  smtp             bool   \n",
            " 24  ssh              bool   \n",
            " 25  irc              bool   \n",
            " 26  tcp              bool   \n",
            " 27  udp              bool   \n",
            " 28  dhcp             bool   \n",
            " 29  arp              bool   \n",
            " 30  icmp             bool   \n",
            " 31  ipv              bool   \n",
            " 32  llc              bool   \n",
            " 33  tot_sum          float64\n",
            " 34  min              float64\n",
            " 35  max              float64\n",
            " 36  avg              float64\n",
            " 37  std              float64\n",
            " 38  tot_size         float64\n",
            " 39  iat              float64\n",
            " 40  number           float64\n",
            " 41  radius           float64\n",
            " 42  covariance       float64\n",
            " 43  variance         float64\n",
            " 44  weight           float64\n",
            " 45  magnitude        float64\n",
            " 46  benign           bool   \n",
            "dtypes: bool(22), float64(18), int64(6), object(1)\n",
            "memory usage: 988.4+ MB\n"
          ]
        }
      ]
    },
    {
      "cell_type": "code",
      "source": [
        "null_counts = df.isnull().sum()\n",
        "\n",
        "\n",
        "cols_with_null = null_counts[null_counts > 0]\n",
        "\n",
        "print(\"Các cột có giá trị null hoặc rỗng:\")\n",
        "print(cols_with_null)\n"
      ],
      "metadata": {
        "colab": {
          "base_uri": "https://localhost:8080/"
        },
        "id": "8Kefn80SaZzU",
        "outputId": "926abccc-4e05-4d99-d097-4891b0f752c8"
      },
      "execution_count": null,
      "outputs": [
        {
          "output_type": "stream",
          "name": "stdout",
          "text": [
            "Các cột có giá trị null hoặc rỗng:\n",
            "Series([], dtype: int64)\n"
          ]
        }
      ]
    },
    {
      "cell_type": "code",
      "source": [
        "print(df.columns)\n",
        "print(df['benign'].unique())\n"
      ],
      "metadata": {
        "colab": {
          "base_uri": "https://localhost:8080/"
        },
        "id": "XM_16JTe_gjs",
        "outputId": "ef8c6d23-d073-4db0-b958-aaf16b8c7b2a"
      },
      "execution_count": null,
      "outputs": [
        {
          "output_type": "stream",
          "name": "stdout",
          "text": [
            "Index(['flow_duration', 'header_length', 'protocol_type', 'duration', 'rate',\n",
            "       'srate', 'drate', 'fin_flag_number', 'syn_flag_number',\n",
            "       'rst_flag_number', 'psh_flag_number', 'ack_flag_number',\n",
            "       'ece_flag_number', 'cwr_flag_number', 'ack_count', 'syn_count',\n",
            "       'fin_count', 'urg_count', 'rst_count', 'http', 'https', 'dns', 'telnet',\n",
            "       'smtp', 'ssh', 'irc', 'tcp', 'udp', 'dhcp', 'arp', 'icmp', 'ipv', 'llc',\n",
            "       'tot_sum', 'min', 'max', 'avg', 'std', 'tot_size', 'iat', 'number',\n",
            "       'radius', 'covariance', 'variance', 'weight', 'magnitude', 'benign'],\n",
            "      dtype='object')\n",
            "[False  True]\n"
          ]
        }
      ]
    },
    {
      "cell_type": "code",
      "source": [
        "def convert_bool_to_float(df):\n",
        "    for col in df.columns:\n",
        "        if df[col].dtype == 'bool':\n",
        "            df[col] = df[col].astype(float)\n",
        "    return df\n"
      ],
      "metadata": {
        "id": "zFZmfv93_qR1"
      },
      "execution_count": null,
      "outputs": []
    },
    {
      "cell_type": "code",
      "source": [
        "training_df = convert_bool_to_float(training_df)\n",
        "validation_df = convert_bool_to_float(validation_df)\n"
      ],
      "metadata": {
        "id": "LDT_G8glAH4w"
      },
      "execution_count": null,
      "outputs": []
    },
    {
      "cell_type": "code",
      "source": [
        "training_df.info()"
      ],
      "metadata": {
        "colab": {
          "base_uri": "https://localhost:8080/"
        },
        "id": "03A7xyDZG8ie",
        "outputId": "714f755f-035e-4900-ce39-9fb1bf99c481"
      },
      "execution_count": null,
      "outputs": [
        {
          "output_type": "stream",
          "name": "stdout",
          "text": [
            "<class 'pandas.core.frame.DataFrame'>\n",
            "Index: 3734922 entries, 1279519 to 2115790\n",
            "Data columns (total 47 columns):\n",
            " #   Column           Dtype  \n",
            "---  ------           -----  \n",
            " 0   flow_duration    float64\n",
            " 1   header_length    int64  \n",
            " 2   protocol_type    object \n",
            " 3   duration         float64\n",
            " 4   rate             int64  \n",
            " 5   srate            int64  \n",
            " 6   drate            float64\n",
            " 7   fin_flag_number  float64\n",
            " 8   syn_flag_number  float64\n",
            " 9   rst_flag_number  float64\n",
            " 10  psh_flag_number  float64\n",
            " 11  ack_flag_number  float64\n",
            " 12  ece_flag_number  float64\n",
            " 13  cwr_flag_number  float64\n",
            " 14  ack_count        float64\n",
            " 15  syn_count        float64\n",
            " 16  fin_count        int64  \n",
            " 17  urg_count        int64  \n",
            " 18  rst_count        int64  \n",
            " 19  http             float64\n",
            " 20  https            float64\n",
            " 21  dns              float64\n",
            " 22  telnet           float64\n",
            " 23  smtp             float64\n",
            " 24  ssh              float64\n",
            " 25  irc              float64\n",
            " 26  tcp              float64\n",
            " 27  udp              float64\n",
            " 28  dhcp             float64\n",
            " 29  arp              float64\n",
            " 30  icmp             float64\n",
            " 31  ipv              float64\n",
            " 32  llc              float64\n",
            " 33  tot_sum          float64\n",
            " 34  min              float64\n",
            " 35  max              float64\n",
            " 36  avg              float64\n",
            " 37  std              float64\n",
            " 38  tot_size         float64\n",
            " 39  iat              float64\n",
            " 40  number           float64\n",
            " 41  radius           float64\n",
            " 42  covariance       float64\n",
            " 43  variance         float64\n",
            " 44  weight           float64\n",
            " 45  magnitude        float64\n",
            " 46  benign           float64\n",
            "dtypes: float64(40), int64(6), object(1)\n",
            "memory usage: 1.3+ GB\n"
          ]
        }
      ]
    },
    {
      "cell_type": "markdown",
      "source": [
        "# Preprocessing and Feature Engineering"
      ],
      "metadata": {
        "id": "Ymn9V1ZsNt4R"
      }
    },
    {
      "cell_type": "code",
      "source": [
        "# Save \"clean\" versions of the sets\n",
        "tr_df = training_df\n",
        "val_df = validation_df"
      ],
      "metadata": {
        "id": "7bTS755o8faz"
      },
      "execution_count": null,
      "outputs": []
    },
    {
      "cell_type": "code",
      "source": [
        "# Drop unbalanced features and unclear features\n",
        "unbalanced_feat = [\"drate\", \"smtp\", \"irc\", \"telnet\", \"ssh\", \"dhcp\", \"arp\", \"ipv\", \"llc\", \"dns\", \"cwr_flag_number\", \"ece_flag_number\", \"rst_flag_number\", \"syn_flag_number\"]\n",
        "unclear_feat = [\"protocol_type\", \"tot_size\"]\n",
        "feat2drop = unbalanced_feat + unclear_feat\n",
        "\n",
        "training_df.drop(feat2drop, axis=1, inplace=True)\n",
        "training_df.info()"
      ],
      "metadata": {
        "id": "43O8eFuONwTv",
        "colab": {
          "base_uri": "https://localhost:8080/"
        },
        "outputId": "d567a4d6-e080-47a7-cddb-5c52aed55184"
      },
      "execution_count": null,
      "outputs": [
        {
          "output_type": "stream",
          "name": "stdout",
          "text": [
            "<class 'pandas.core.frame.DataFrame'>\n",
            "Index: 3734922 entries, 1279519 to 2115790\n",
            "Data columns (total 31 columns):\n",
            " #   Column           Dtype  \n",
            "---  ------           -----  \n",
            " 0   flow_duration    float64\n",
            " 1   header_length    int64  \n",
            " 2   duration         float64\n",
            " 3   rate             int64  \n",
            " 4   srate            int64  \n",
            " 5   fin_flag_number  float64\n",
            " 6   psh_flag_number  float64\n",
            " 7   ack_flag_number  float64\n",
            " 8   ack_count        float64\n",
            " 9   syn_count        float64\n",
            " 10  fin_count        int64  \n",
            " 11  urg_count        int64  \n",
            " 12  rst_count        int64  \n",
            " 13  http             float64\n",
            " 14  https            float64\n",
            " 15  tcp              float64\n",
            " 16  udp              float64\n",
            " 17  icmp             float64\n",
            " 18  tot_sum          float64\n",
            " 19  min              float64\n",
            " 20  max              float64\n",
            " 21  avg              float64\n",
            " 22  std              float64\n",
            " 23  iat              float64\n",
            " 24  number           float64\n",
            " 25  radius           float64\n",
            " 26  covariance       float64\n",
            " 27  variance         float64\n",
            " 28  weight           float64\n",
            " 29  magnitude        float64\n",
            " 30  benign           float64\n",
            "dtypes: float64(25), int64(6)\n",
            "memory usage: 911.8 MB\n"
          ]
        }
      ]
    },
    {
      "cell_type": "code",
      "source": [
        "training_df[\"is_benign\"] = training_df[\"benign\"]\n",
        "training_df.drop(\"benign\", axis=1, inplace=True)\n",
        "\n",
        "validation_df[\"is_benign\"] = validation_df[\"benign\"]\n",
        "validation_df.drop(\"benign\", axis=1, inplace=True)"
      ],
      "metadata": {
        "id": "MW1kgJ-8OArY"
      },
      "execution_count": null,
      "outputs": []
    },
    {
      "cell_type": "code",
      "source": [
        "X_train, X_valid = training_df.drop(\"is_benign\", axis=1), validation_df.drop(\"is_benign\", axis=1)\n",
        "y_train, y_valid = validation_df[\"is_benign\"], validation_df[\"is_benign\"]\n",
        "\n",
        "scaler = StandardScaler()\n",
        "X_train = scaler.fit_transform(X_train)"
      ],
      "metadata": {
        "id": "CKZ_kZi6OC64"
      },
      "execution_count": null,
      "outputs": []
    },
    {
      "cell_type": "code",
      "source": [
        "# Plot the scaled weight\n",
        "training_df[\"scaled_weight2\"] = scaler.fit_transform(training_df[[\"weight\"]])**2\n",
        "#sns.kdeplot(data=training_df[:10000], x=\"scaled_weight2\", hue=\"benign\")"
      ],
      "metadata": {
        "id": "qlQFhoT8OGvQ"
      },
      "execution_count": null,
      "outputs": []
    },
    {
      "cell_type": "code",
      "source": [
        "# Find best threshold with Optuna\n",
        "\n",
        "def objective(trial):\n",
        "    threshold = trial.suggest_float('threshold', min(training_df['scaled_weight2']), max(training_df['scaled_weight2']))\n",
        "    predictions = ((training_df['ack_flag_number'] == 1) | (training_df['scaled_weight2'] > threshold)).astype(int)\n",
        "    f1 = f1_score(training_df['is_benign'], predictions)\n",
        "    return f1\n",
        "\n",
        "study = optuna.create_study(direction='maximize')\n",
        "study.optimize(objective, n_trials=10)\n",
        "\n",
        "best_threshold = study.best_params['threshold']\n",
        "best_f1_score = study.best_value\n",
        "\n",
        "print(f\"Best threshold: {best_threshold}\")\n",
        "print(f\"Best F1-score: {best_f1_score}\")"
      ],
      "metadata": {
        "colab": {
          "base_uri": "https://localhost:8080/"
        },
        "id": "671lkVD1OI4o",
        "outputId": "cefc018b-c4bc-4f99-e15c-30eaadb60e7b"
      },
      "execution_count": null,
      "outputs": [
        {
          "output_type": "stream",
          "name": "stderr",
          "text": [
            "[I 2025-08-09 15:52:21,386] A new study created in memory with name: no-name-b258c8b4-33d3-4e48-b5d4-797988bc6978\n",
            "[I 2025-08-09 15:52:23,595] Trial 0 finished with value: 0.2978223222569555 and parameters: {'threshold': 3.049577870076634}. Best is trial 0 with value: 0.2978223222569555.\n",
            "[I 2025-08-09 15:52:25,131] Trial 1 finished with value: 0.2978610070180141 and parameters: {'threshold': 9.2612234757009}. Best is trial 1 with value: 0.2978610070180141.\n",
            "[I 2025-08-09 15:52:26,191] Trial 2 finished with value: 0.27130077083390214 and parameters: {'threshold': 25.768629338705587}. Best is trial 1 with value: 0.2978610070180141.\n",
            "[I 2025-08-09 15:52:27,274] Trial 3 finished with value: 0.27130077083390214 and parameters: {'threshold': 25.614878211742933}. Best is trial 1 with value: 0.2978610070180141.\n",
            "[I 2025-08-09 15:52:28,380] Trial 4 finished with value: 0.2975306319907956 and parameters: {'threshold': 1.0395493216539262}. Best is trial 1 with value: 0.2978610070180141.\n",
            "[I 2025-08-09 15:52:29,448] Trial 5 finished with value: 0.2978882952823835 and parameters: {'threshold': 12.602548076612978}. Best is trial 5 with value: 0.2978882952823835.\n",
            "[I 2025-08-09 15:52:30,502] Trial 6 finished with value: 0.2979272149750913 and parameters: {'threshold': 17.58689056784508}. Best is trial 6 with value: 0.2979272149750913.\n",
            "[I 2025-08-09 15:52:31,563] Trial 7 finished with value: 0.29781654796453694 and parameters: {'threshold': 5.1637156436270715}. Best is trial 6 with value: 0.2979272149750913.\n",
            "[I 2025-08-09 15:52:32,610] Trial 8 finished with value: 0.29794693142693274 and parameters: {'threshold': 20.60870516927072}. Best is trial 8 with value: 0.29794693142693274.\n",
            "[I 2025-08-09 15:52:33,697] Trial 9 finished with value: 0.2975306319907956 and parameters: {'threshold': 1.0403525387475439}. Best is trial 8 with value: 0.29794693142693274.\n"
          ]
        },
        {
          "output_type": "stream",
          "name": "stdout",
          "text": [
            "Best threshold: 20.60870516927072\n",
            "Best F1-score: 0.29794693142693274\n"
          ]
        }
      ]
    },
    {
      "cell_type": "code",
      "source": [
        "threshold=best_threshold # found with optuna\n",
        "\n",
        "# Classify samples based on the threshold\n",
        "predictions = ((training_df['ack_flag_number'] == 1) | (training_df['scaled_weight2'] > threshold)).astype(int)\n",
        "\n",
        "# Calculate recall and precision\n",
        "recall = recall_score(training_df['is_benign'], predictions)\n",
        "precision = precision_score(training_df['is_benign'], predictions)\n",
        "\n",
        "print(\"Recall (benign traffic misclassified as attack):\", recall)\n",
        "print(\"Precision (malicious traffic misclassified as benign):\", precision)\n",
        "\n",
        "tr_sv_thr = training_df\n",
        "\n",
        "# Identify misclassified samples\n",
        "misclassified = training_df[predictions != training_df['is_benign']]\n",
        "misclassified.shape"
      ],
      "metadata": {
        "colab": {
          "base_uri": "https://localhost:8080/"
        },
        "id": "WhMoZSOgOVGQ",
        "outputId": "ae3070cb-b180-4e1d-d475-1bab86c02c15"
      },
      "execution_count": null,
      "outputs": [
        {
          "output_type": "stream",
          "name": "stdout",
          "text": [
            "Recall (benign traffic misclassified as attack): 0.999977219399959\n",
            "Precision (malicious traffic misclassified as benign): 0.175052191442398\n"
          ]
        },
        {
          "output_type": "execute_result",
          "data": {
            "text/plain": [
              "(413729, 32)"
            ]
          },
          "metadata": {},
          "execution_count": 17
        }
      ]
    },
    {
      "cell_type": "code",
      "source": [
        "sns.scatterplot(x=misclassified['scaled_weight2'][:10000], y=misclassified['variance'][:10000], hue=misclassified['is_benign'][:10000])\n",
        "sns.scatterplot(x=training_df['scaled_weight2'][:10000], y=training_df['variance'][:10000], hue=training_df['is_benign'][:10000])"
      ],
      "metadata": {
        "colab": {
          "base_uri": "https://localhost:8080/",
          "height": 467
        },
        "id": "rDgZo9HQOkQB",
        "outputId": "2e0beaaf-5fb5-4cd7-a779-7b31dbfb5af0"
      },
      "execution_count": null,
      "outputs": [
        {
          "output_type": "execute_result",
          "data": {
            "text/plain": [
              "<Axes: xlabel='scaled_weight2', ylabel='variance'>"
            ]
          },
          "metadata": {},
          "execution_count": 18
        },
        {
          "output_type": "display_data",
          "data": {
            "text/plain": [
              "<Figure size 640x480 with 1 Axes>"
            ],
            "image/png": "[encoded data removed]"
          },
          "metadata": {}
        }
      ]
    },
    {
      "cell_type": "code",
      "source": [
        "sns.scatterplot(x=misclassified['scaled_weight2'][:10000], y=misclassified['duration'][:10000], hue=misclassified['is_benign'][:10000])\n",
        "sns.scatterplot(x=training_df['scaled_weight2'][:10000], y=training_df['duration'][:10000], hue=training_df['is_benign'][:10000])"
      ],
      "metadata": {
        "colab": {
          "base_uri": "https://localhost:8080/",
          "height": 467
        },
        "id": "1RIgts1ZOoX3",
        "outputId": "22cbc748-3faa-4c3a-b3fe-b75e02a01b52"
      },
      "execution_count": null,
      "outputs": [
        {
          "output_type": "execute_result",
          "data": {
            "text/plain": [
              "<Axes: xlabel='scaled_weight2', ylabel='duration'>"
            ]
          },
          "metadata": {},
          "execution_count": 19
        },
        {
          "output_type": "display_data",
          "data": {
            "text/plain": [
              "<Figure size 640x480 with 1 Axes>"
            ],
            "image/png": "[encoded data removed]"
          },
          "metadata": {}
        }
      ]
    },
    {
      "cell_type": "code",
      "source": [
        "# Find best thresholds with Optuna\n",
        "\n",
        "def objective(trial):\n",
        "    # Suggest thresholds for the two features\n",
        "    threshold1 = trial.suggest_float('threshold1', min(training_df['scaled_weight2']), max(training_df['scaled_weight2']))\n",
        "    threshold2 = trial.suggest_float('threshold2', min(training_df['duration']), max(training_df['duration']))\n",
        "\n",
        "    # Correctly apply the logical condition using parentheses\n",
        "    predictions = ((training_df['scaled_weight2'] > threshold1) & (training_df['duration'] > threshold2)).astype(int)\n",
        "\n",
        "    # Calculate the F1-score based on the predictions\n",
        "    f1 = f1_score(training_df['is_benign'], predictions)\n",
        "    return f1\n",
        "\n",
        "# Create a study and optimize the objective function\n",
        "study = optuna.create_study(direction='maximize')\n",
        "study.optimize(objective, n_trials=10)\n",
        "\n",
        "# Retrieve the best thresholds and the best F1-score\n",
        "best_threshold1 = study.best_params['threshold1']\n",
        "best_threshold2 = study.best_params['threshold2']\n",
        "best_f1_score = study.best_value\n",
        "\n",
        "# Print the results\n",
        "print(f\"Best threshold1 for 'scaled_weight2': {best_threshold1}\")\n",
        "print(f\"Best threshold2 for 'duration': {best_threshold2}\")\n",
        "print(f\"Best F1-score: {best_f1_score}\")"
      ],
      "metadata": {
        "colab": {
          "base_uri": "https://localhost:8080/"
        },
        "id": "pw56aJwjOt_Y",
        "outputId": "dfee94e3-8ad3-4eb2-e987-ab94b3d6ebc5"
      },
      "execution_count": null,
      "outputs": [
        {
          "output_type": "stream",
          "name": "stderr",
          "text": [
            "[I 2025-08-09 15:52:45,337] A new study created in memory with name: no-name-bfba5dee-e8c8-4f52-a687-fe72ce92159c\n",
            "[I 2025-08-09 15:52:47,198] Trial 0 finished with value: 0.00013651100619987486 and parameters: {'threshold1': 43.23034451703274, 'threshold2': 54.16165168669584}. Best is trial 0 with value: 0.00013651100619987486.\n",
            "[I 2025-08-09 15:52:50,276] Trial 1 finished with value: 0.3360882988306702 and parameters: {'threshold1': 21.945426481408294, 'threshold2': 156.5495652879962}. Best is trial 1 with value: 0.3360882988306702.\n",
            "[I 2025-08-09 15:52:52,050] Trial 2 finished with value: 0.3943199809681627 and parameters: {'threshold1': 21.326342393255434, 'threshold2': 141.4245977909046}. Best is trial 2 with value: 0.3943199809681627.\n",
            "[I 2025-08-09 15:52:53,755] Trial 3 finished with value: 0.4000130212572024 and parameters: {'threshold1': 10.788189978729761, 'threshold2': 138.26174476127238}. Best is trial 3 with value: 0.4000130212572024.\n",
            "[I 2025-08-09 15:52:55,432] Trial 4 finished with value: 0.0 and parameters: {'threshold1': 27.345413351518065, 'threshold2': 135.83614607413375}. Best is trial 3 with value: 0.4000130212572024.\n",
            "[I 2025-08-09 15:52:57,149] Trial 5 finished with value: 0.00045420995855334126 and parameters: {'threshold1': 37.44807145676121, 'threshold2': 44.506287086425466}. Best is trial 3 with value: 0.4000130212572024.\n",
            "[I 2025-08-09 15:52:58,831] Trial 6 finished with value: 0.5485364493496051 and parameters: {'threshold1': 4.3135577620513805, 'threshold2': 99.8812640448528}. Best is trial 6 with value: 0.5485364493496051.\n",
            "[I 2025-08-09 15:53:00,538] Trial 7 finished with value: 2.277956217681496e-05 and parameters: {'threshold1': 38.0651721678751, 'threshold2': 126.86772517090209}. Best is trial 6 with value: 0.5485364493496051.\n",
            "[I 2025-08-09 15:53:03,618] Trial 8 finished with value: 0.0005216602404173282 and parameters: {'threshold1': 31.191240710824875, 'threshold2': 18.290378017033778}. Best is trial 6 with value: 0.5485364493496051.\n",
            "[I 2025-08-09 15:53:05,669] Trial 9 finished with value: 0.004167553578830621 and parameters: {'threshold1': 13.837866020373028, 'threshold2': 245.70953827384372}. Best is trial 6 with value: 0.5485364493496051.\n"
          ]
        },
        {
          "output_type": "stream",
          "name": "stdout",
          "text": [
            "Best threshold1 for 'scaled_weight2': 4.3135577620513805\n",
            "Best threshold2 for 'duration': 99.8812640448528\n",
            "Best F1-score: 0.5485364493496051\n"
          ]
        }
      ]
    },
    {
      "cell_type": "code",
      "source": [
        "significant_features = [\"variance\", \"duration\", \"https\", \"tcp\", \"tot_sum\", \"ack_flag_number\"]\n",
        "features_to_scale_and_square = [\"weight\", \"iat\", \"number\"]\n",
        "\n",
        "for feat in training_df.columns:\n",
        "    if feat not in significant_features + features_to_scale_and_square + [\"is_benign\"]:\n",
        "        training_df.drop(feat, axis=1, inplace=True)\n",
        "\n",
        "for feat in features_to_scale_and_square:\n",
        "    training_df[f\"scaled_{feat}2\"] = scaler.fit_transform(training_df[[feat]])**2\n",
        "    if feat in training_df:\n",
        "        training_df.drop(feat, axis=1, inplace=True)\n",
        "    else:\n",
        "        print(f\"{feat} was not part of training_df.\")\n",
        "\n",
        "for feat in significant_features:\n",
        "    training_df[f\"scaled_{feat}\"] = scaler.fit_transform(training_df[[feat]])\n",
        "    if feat in training_df:\n",
        "        training_df.drop(feat, axis=1, inplace=True)\n",
        "    else:\n",
        "        print(f\"{feat} was not part of training_df.\")\n",
        "\n",
        "training_df.describe()"
      ],
      "metadata": {
        "colab": {
          "base_uri": "https://localhost:8080/",
          "height": 300
        },
        "id": "Mu9oPtqCOu7J",
        "outputId": "b420afdf-2d29-46d9-ea39-fbddb068afc9"
      },
      "execution_count": null,
      "outputs": [
        {
          "output_type": "execute_result",
          "data": {
            "text/plain": [
              "          is_benign  scaled_weight2   scaled_iat2  scaled_number2  \\\n",
              "count  3.734922e+06    3.734922e+06  3.734922e+06    3.734922e+06   \n",
              "mean   2.350625e-02    1.000000e+00  1.000000e+00    1.000000e+00   \n",
              "std    1.515048e-01    4.791401e+00  4.776166e+00    4.821996e+00   \n",
              "min    0.000000e+00    3.910391e-06  1.443430e-06    4.204228e-06   \n",
              "25%    0.000000e+00    3.910391e-06  2.209163e-05    4.204228e-06   \n",
              "50%    0.000000e+00    3.910391e-06  7.767669e-05    4.204228e-06   \n",
              "75%    0.000000e+00    3.910391e-06  1.161128e-04    4.204228e-06   \n",
              "max    1.000000e+00    4.445521e+01  2.453723e+01    1.075527e+02   \n",
              "\n",
              "       scaled_variance  scaled_duration  scaled_https    scaled_tcp  \\\n",
              "count     3.734922e+06     3.734922e+06  3.734922e+06  3.734922e+06   \n",
              "mean      1.510605e-16     2.084949e-15 -2.279872e-17  1.120075e-16   \n",
              "std       1.000000e+00     1.000000e+00  1.000000e+00  1.000000e+00   \n",
              "min      -4.138298e-01    -4.731379e+00 -2.413268e-01 -1.160642e+00   \n",
              "25%      -4.138298e-01    -1.676907e-01 -2.413268e-01 -1.160642e+00   \n",
              "50%      -4.138298e-01    -1.676907e-01 -2.413268e-01  8.615921e-01   \n",
              "75%      -7.058573e-02    -1.676907e-01 -2.413268e-01  8.615921e-01   \n",
              "max       3.876721e+00     1.345207e+01  4.143759e+00  8.615921e-01   \n",
              "\n",
              "       scaled_tot_sum  scaled_ack_flag_number  \n",
              "count    3.734922e+06            3.734922e+06  \n",
              "mean     3.910730e-17            7.630646e-17  \n",
              "std      1.000000e+00            1.000000e+00  \n",
              "min     -4.855105e-01           -3.753446e-01  \n",
              "25%     -3.003285e-01           -3.753446e-01  \n",
              "50%     -2.842257e-01           -3.753446e-01  \n",
              "75%     -2.840187e-01           -3.753446e-01  \n",
              "max      3.292628e+01            2.664218e+00  "
            ],
            "text/html": [
              "\n",
              "  <div id=\"df-66a9daa3-9b80-4891-b085-8ccc7547ee2c\" class=\"colab-df-container\">\n",
              "    <div>\n",
              "<style scoped>\n",
              "    .dataframe tbody tr th:only-of-type {\n",
              "        vertical-align: middle;\n",
              "    }\n",
              "\n",
              "    .dataframe tbody tr th {\n",
              "        vertical-align: top;\n",
              "    }\n",
              "\n",
              "    .dataframe thead th {\n",
              "        text-align: right;\n",
              "    }\n",
              "</style>\n",
              "<table border=\"1\" class=\"dataframe\">\n",
              "  <thead>\n",
              "    <tr style=\"text-align: right;\">\n",
              "      <th></th>\n",
              "      <th>is_benign</th>\n",
              "      <th>scaled_weight2</th>\n",
              "      <th>scaled_iat2</th>\n",
              "      <th>scaled_number2</th>\n",
              "      <th>scaled_variance</th>\n",
              "      <th>scaled_duration</th>\n",
              "      <th>scaled_https</th>\n",
              "      <th>scaled_tcp</th>\n",
              "      <th>scaled_tot_sum</th>\n",
              "      <th>scaled_ack_flag_number</th>\n",
              "    </tr>\n",
              "  </thead>\n",
              "  <tbody>\n",
              "    <tr>\n",
              "      <th>count</th>\n",
              "      <td>3.734922e+06</td>\n",
              "      <td>3.734922e+06</td>\n",
              "      <td>3.734922e+06</td>\n",
              "      <td>3.734922e+06</td>\n",
              "      <td>3.734922e+06</td>\n",
              "      <td>3.734922e+06</td>\n",
              "      <td>3.734922e+06</td>\n",
              "      <td>3.734922e+06</td>\n",
              "      <td>3.734922e+06</td>\n",
              "      <td>3.734922e+06</td>\n",
              "    </tr>\n",
              "    <tr>\n",
              "      <th>mean</th>\n",
              "      <td>2.350625e-02</td>\n",
              "      <td>1.000000e+00</td>\n",
              "      <td>1.000000e+00</td>\n",
              "      <td>1.000000e+00</td>\n",
              "      <td>1.510605e-16</td>\n",
              "      <td>2.084949e-15</td>\n",
              "      <td>-2.279872e-17</td>\n",
              "      <td>1.120075e-16</td>\n",
              "      <td>3.910730e-17</td>\n",
              "      <td>7.630646e-17</td>\n",
              "    </tr>\n",
              "    <tr>\n",
              "      <th>std</th>\n",
              "      <td>1.515048e-01</td>\n",
              "      <td>4.791401e+00</td>\n",
              "      <td>4.776166e+00</td>\n",
              "      <td>4.821996e+00</td>\n",
              "      <td>1.000000e+00</td>\n",
              "      <td>1.000000e+00</td>\n",
              "      <td>1.000000e+00</td>\n",
              "      <td>1.000000e+00</td>\n",
              "      <td>1.000000e+00</td>\n",
              "      <td>1.000000e+00</td>\n",
              "    </tr>\n",
              "    <tr>\n",
              "      <th>min</th>\n",
              "      <td>0.000000e+00</td>\n",
              "      <td>3.910391e-06</td>\n",
              "      <td>1.443430e-06</td>\n",
              "      <td>4.204228e-06</td>\n",
              "      <td>-4.138298e-01</td>\n",
              "      <td>-4.731379e+00</td>\n",
              "      <td>-2.413268e-01</td>\n",
              "      <td>-1.160642e+00</td>\n",
              "      <td>-4.855105e-01</td>\n",
              "      <td>-3.753446e-01</td>\n",
              "    </tr>\n",
              "    <tr>\n",
              "      <th>25%</th>\n",
              "      <td>0.000000e+00</td>\n",
              "      <td>3.910391e-06</td>\n",
              "      <td>2.209163e-05</td>\n",
              "      <td>4.204228e-06</td>\n",
              "      <td>-4.138298e-01</td>\n",
              "      <td>-1.676907e-01</td>\n",
              "      <td>-2.413268e-01</td>\n",
              "      <td>-1.160642e+00</td>\n",
              "      <td>-3.003285e-01</td>\n",
              "      <td>-3.753446e-01</td>\n",
              "    </tr>\n",
              "    <tr>\n",
              "      <th>50%</th>\n",
              "      <td>0.000000e+00</td>\n",
              "      <td>3.910391e-06</td>\n",
              "      <td>7.767669e-05</td>\n",
              "      <td>4.204228e-06</td>\n",
              "      <td>-4.138298e-01</td>\n",
              "      <td>-1.676907e-01</td>\n",
              "      <td>-2.413268e-01</td>\n",
              "      <td>8.615921e-01</td>\n",
              "      <td>-2.842257e-01</td>\n",
              "      <td>-3.753446e-01</td>\n",
              "    </tr>\n",
              "    <tr>\n",
              "      <th>75%</th>\n",
              "      <td>0.000000e+00</td>\n",
              "      <td>3.910391e-06</td>\n",
              "      <td>1.161128e-04</td>\n",
              "      <td>4.204228e-06</td>\n",
              "      <td>-7.058573e-02</td>\n",
              "      <td>-1.676907e-01</td>\n",
              "      <td>-2.413268e-01</td>\n",
              "      <td>8.615921e-01</td>\n",
              "      <td>-2.840187e-01</td>\n",
              "      <td>-3.753446e-01</td>\n",
              "    </tr>\n",
              "    <tr>\n",
              "      <th>max</th>\n",
              "      <td>1.000000e+00</td>\n",
              "      <td>4.445521e+01</td>\n",
              "      <td>2.453723e+01</td>\n",
              "      <td>1.075527e+02</td>\n",
              "      <td>3.876721e+00</td>\n",
              "      <td>1.345207e+01</td>\n",
              "      <td>4.143759e+00</td>\n",
              "      <td>8.615921e-01</td>\n",
              "      <td>3.292628e+01</td>\n",
              "      <td>2.664218e+00</td>\n",
              "    </tr>\n",
              "  </tbody>\n",
              "</table>\n",
              "</div>\n",
              "    <div class=\"colab-df-buttons\">\n",
              "\n",
              "  <div class=\"colab-df-container\">\n",
              "    <button class=\"colab-df-convert\" onclick=\"convertToInteractive('df-66a9daa3-9b80-4891-b085-8ccc7547ee2c')\"\n",
              "            title=\"Convert this dataframe to an interactive table.\"\n",
              "            style=\"display:none;\">\n",
              "\n",
              "  <svg xmlns=\"http://www.w3.org/2000/svg\" height=\"24px\" viewBox=\"0 -960 960 960\">\n",
              "    <path d=\"M120-120v-720h720v720H120Zm60-500h600v-160H180v160Zm220 220h160v-160H400v160Zm0 220h160v-160H400v160ZM180-400h160v-160H180v160Zm440 0h160v-160H620v160ZM180-180h160v-160H180v160Zm440 0h160v-160H620v160Z\"/>\n",
              "  </svg>\n",
              "    </button>\n",
              "\n",
              "  <style>\n",
              "    .colab-df-container {\n",
              "      display:flex;\n",
              "      gap: 12px;\n",
              "    }\n",
              "\n",
              "    .colab-df-convert {\n",
              "      background-color: #E8F0FE;\n",
              "      border: none;\n",
              "      border-radius: 50%;\n",
              "      cursor: pointer;\n",
              "      display: none;\n",
              "      fill: #1967D2;\n",
              "      height: 32px;\n",
              "      padding: 0 0 0 0;\n",
              "      width: 32px;\n",
              "    }\n",
              "\n",
              "    .colab-df-convert:hover {\n",
              "      background-color: #E2EBFA;\n",
              "      box-shadow: 0px 1px 2px rgba(60, 64, 67, 0.3), 0px 1px 3px 1px rgba(60, 64, 67, 0.15);\n",
              "      fill: #174EA6;\n",
              "    }\n",
              "\n",
              "    .colab-df-buttons div {\n",
              "      margin-bottom: 4px;\n",
              "    }\n",
              "\n",
              "    [theme=dark] .colab-df-convert {\n",
              "      background-color: #3B4455;\n",
              "      fill: #D2E3FC;\n",
              "    }\n",
              "\n",
              "    [theme=dark] .colab-df-convert:hover {\n",
              "      background-color: #434B5C;\n",
              "      box-shadow: 0px 1px 3px 1px rgba(0, 0, 0, 0.15);\n",
              "      filter: drop-shadow(0px 1px 2px rgba(0, 0, 0, 0.3));\n",
              "      fill: #FFFFFF;\n",
              "    }\n",
              "  </style>\n",
              "\n",
              "    <script>\n",
              "      const buttonEl =\n",
              "        document.querySelector('#df-66a9daa3-9b80-4891-b085-8ccc7547ee2c button.colab-df-convert');\n",
              "      buttonEl.style.display =\n",
              "        google.colab.kernel.accessAllowed ? 'block' : 'none';\n",
              "\n",
              "      async function convertToInteractive(key) {\n",
              "        const element = document.querySelector('#df-66a9daa3-9b80-4891-b085-8ccc7547ee2c');\n",
              "        const dataTable =\n",
              "          await google.colab.kernel.invokeFunction('convertToInteractive',\n",
              "                                                    [key], {});\n",
              "        if (!dataTable) return;\n",
              "\n",
              "        const docLinkHtml = 'Like what you see? Visit the ' +\n",
              "          '<a target=\"_blank\" href=https://colab.research.google.com/notebooks/data_table.ipynb>data table notebook</a>'\n",
              "          + ' to learn more about interactive tables.';\n",
              "        element.innerHTML = '';\n",
              "        dataTable['output_type'] = 'display_data';\n",
              "        await google.colab.output.renderOutput(dataTable, element);\n",
              "        const docLink = document.createElement('div');\n",
              "        docLink.innerHTML = docLinkHtml;\n",
              "        element.appendChild(docLink);\n",
              "      }\n",
              "    </script>\n",
              "  </div>\n",
              "\n",
              "\n",
              "    <div id=\"df-2c148100-37a8-4dfb-b4ab-1d8321b4f1b4\">\n",
              "      <button class=\"colab-df-quickchart\" onclick=\"quickchart('df-2c148100-37a8-4dfb-b4ab-1d8321b4f1b4')\"\n",
              "                title=\"Suggest charts\"\n",
              "                style=\"display:none;\">\n",
              "\n",
              "<svg xmlns=\"http://www.w3.org/2000/svg\" height=\"24px\"viewBox=\"0 0 24 24\"\n",
              "     width=\"24px\">\n",
              "    <g>\n",
              "        <path d=\"M19 3H5c-1.1 0-2 .9-2 2v14c0 1.1.9 2 2 2h14c1.1 0 2-.9 2-2V5c0-1.1-.9-2-2-2zM9 17H7v-7h2v7zm4 0h-2V7h2v10zm4 0h-2v-4h2v4z\"/>\n",
              "    </g>\n",
              "</svg>\n",
              "      </button>\n",
              "\n",
              "<style>\n",
              "  .colab-df-quickchart {\n",
              "      --bg-color: #E8F0FE;\n",
              "      --fill-color: #1967D2;\n",
              "      --hover-bg-color: #E2EBFA;\n",
              "      --hover-fill-color: #174EA6;\n",
              "      --disabled-fill-color: #AAA;\n",
              "      --disabled-bg-color: #DDD;\n",
              "  }\n",
              "\n",
              "  [theme=dark] .colab-df-quickchart {\n",
              "      --bg-color: #3B4455;\n",
              "      --fill-color: #D2E3FC;\n",
              "      --hover-bg-color: #434B5C;\n",
              "      --hover-fill-color: #FFFFFF;\n",
              "      --disabled-bg-color: #3B4455;\n",
              "      --disabled-fill-color: #666;\n",
              "  }\n",
              "\n",
              "  .colab-df-quickchart {\n",
              "    background-color: var(--bg-color);\n",
              "    border: none;\n",
              "    border-radius: 50%;\n",
              "    cursor: pointer;\n",
              "    display: none;\n",
              "    fill: var(--fill-color);\n",
              "    height: 32px;\n",
              "    padding: 0;\n",
              "    width: 32px;\n",
              "  }\n",
              "\n",
              "  .colab-df-quickchart:hover {\n",
              "    background-color: var(--hover-bg-color);\n",
              "    box-shadow: 0 1px 2px rgba(60, 64, 67, 0.3), 0 1px 3px 1px rgba(60, 64, 67, 0.15);\n",
              "    fill: var(--button-hover-fill-color);\n",
              "  }\n",
              "\n",
              "  .colab-df-quickchart-complete:disabled,\n",
              "  .colab-df-quickchart-complete:disabled:hover {\n",
              "    background-color: var(--disabled-bg-color);\n",
              "    fill: var(--disabled-fill-color);\n",
              "    box-shadow: none;\n",
              "  }\n",
              "\n",
              "  .colab-df-spinner {\n",
              "    border: 2px solid var(--fill-color);\n",
              "    border-color: transparent;\n",
              "    border-bottom-color: var(--fill-color);\n",
              "    animation:\n",
              "      spin 1s steps(1) infinite;\n",
              "  }\n",
              "\n",
              "  @keyframes spin {\n",
              "    0% {\n",
              "      border-color: transparent;\n",
              "      border-bottom-color: var(--fill-color);\n",
              "      border-left-color: var(--fill-color);\n",
              "    }\n",
              "    20% {\n",
              "      border-color: transparent;\n",
              "      border-left-color: var(--fill-color);\n",
              "      border-top-color: var(--fill-color);\n",
              "    }\n",
              "    30% {\n",
              "      border-color: transparent;\n",
              "      border-left-color: var(--fill-color);\n",
              "      border-top-color: var(--fill-color);\n",
              "      border-right-color: var(--fill-color);\n",
              "    }\n",
              "    40% {\n",
              "      border-color: transparent;\n",
              "      border-right-color: var(--fill-color);\n",
              "      border-top-color: var(--fill-color);\n",
              "    }\n",
              "    60% {\n",
              "      border-color: transparent;\n",
              "      border-right-color: var(--fill-color);\n",
              "    }\n",
              "    80% {\n",
              "      border-color: transparent;\n",
              "      border-right-color: var(--fill-color);\n",
              "      border-bottom-color: var(--fill-color);\n",
              "    }\n",
              "    90% {\n",
              "      border-color: transparent;\n",
              "      border-bottom-color: var(--fill-color);\n",
              "    }\n",
              "  }\n",
              "</style>\n",
              "\n",
              "      <script>\n",
              "        async function quickchart(key) {\n",
              "          const quickchartButtonEl =\n",
              "            document.querySelector('#' + key + ' button');\n",
              "          quickchartButtonEl.disabled = true;  // To prevent multiple clicks.\n",
              "          quickchartButtonEl.classList.add('colab-df-spinner');\n",
              "          try {\n",
              "            const charts = await google.colab.kernel.invokeFunction(\n",
              "                'suggestCharts', [key], {});\n",
              "          } catch (error) {\n",
              "            console.error('Error during call to suggestCharts:', error);\n",
              "          }\n",
              "          quickchartButtonEl.classList.remove('colab-df-spinner');\n",
              "          quickchartButtonEl.classList.add('colab-df-quickchart-complete');\n",
              "        }\n",
              "        (() => {\n",
              "          let quickchartButtonEl =\n",
              "            document.querySelector('#df-2c148100-37a8-4dfb-b4ab-1d8321b4f1b4 button');\n",
              "          quickchartButtonEl.style.display =\n",
              "            google.colab.kernel.accessAllowed ? 'block' : 'none';\n",
              "        })();\n",
              "      </script>\n",
              "    </div>\n",
              "\n",
              "    </div>\n",
              "  </div>\n"
            ],
            "application/vnd.google.colaboratory.intrinsic+json": {
              "type": "dataframe",
              "summary": "{\n  \"name\": \"training_df\",\n  \"rows\": 8,\n  \"fields\": [\n    {\n      \"column\": \"is_benign\",\n      \"properties\": {\n        \"dtype\": \"number\",\n        \"std\": 1320494.277354435,\n        \"min\": 0.0,\n        \"max\": 3734922.0,\n        \"num_unique_values\": 5,\n        \"samples\": [\n          0.023506247252285322,\n          1.0,\n          0.1515048175361822\n        ],\n        \"semantic_type\": \"\",\n        \"description\": \"\"\n      }\n    },\n    {\n      \"column\": \"scaled_weight2\",\n      \"properties\": {\n        \"dtype\": \"number\",\n        \"std\": 1320491.7989520424,\n        \"min\": 3.910391483766503e-06,\n        \"max\": 3734922.0,\n        \"num_unique_values\": 5,\n        \"samples\": [\n          0.9999999999999992,\n          44.45521340916683,\n          4.791400916685034\n        ],\n        \"semantic_type\": \"\",\n        \"description\": \"\"\n      }\n    },\n    {\n      \"column\": \"scaled_iat2\",\n      \"properties\": {\n        \"dtype\": \"number\",\n        \"std\": 1320492.805659563,\n        \"min\": 1.4434301485988812e-06,\n        \"max\": 3734922.0,\n        \"num_unique_values\": 8,\n        \"samples\": [\n          0.9999999999999999,\n          7.767669154179545e-05,\n          3734922.0\n        ],\n        \"semantic_type\": \"\",\n        \"description\": \"\"\n      }\n    },\n    {\n      \"column\": \"scaled_number2\",\n      \"properties\": {\n        \"dtype\": \"number\",\n        \"std\": 1320488.6109432022,\n        \"min\": 4.204228002581608e-06,\n        \"max\": 3734922.0,\n        \"num_unique_values\": 5,\n        \"samples\": [\n          1.000000000000001,\n          107.55266379485502,\n          4.821996177491272\n        ],\n        \"semantic_type\": \"\",\n        \"description\": \"\"\n      }\n    },\n    {\n      \"column\": \"scaled_variance\",\n      \"properties\": {\n        \"dtype\": \"number\",\n        \"std\": 1320494.1566604022,\n        \"min\": -0.41382978057711844,\n        \"max\": 3734922.0,\n        \"num_unique_values\": 6,\n        \"samples\": [\n          3734922.0,\n          1.5106054528125352e-16,\n          3.8767208318618023\n        ],\n        \"semantic_type\": \"\",\n        \"description\": \"\"\n      }\n    },\n    {\n      \"column\": \"scaled_duration\",\n      \"properties\": {\n        \"dtype\": \"number\",\n        \"std\": 1320493.8711519053,\n        \"min\": -4.73137921662757,\n        \"max\": 3734922.0,\n        \"num_unique_values\": 6,\n        \"samples\": [\n          3734922.0,\n          2.084949045331935e-15,\n          13.452067130815855\n        ],\n        \"semantic_type\": \"\",\n        \"description\": \"\"\n      }\n    },\n    {\n      \"column\": \"scaled_https\",\n      \"properties\": {\n        \"dtype\": \"number\",\n        \"std\": 1320494.1256585978,\n        \"min\": -0.2413267981072929,\n        \"max\": 3734922.0,\n        \"num_unique_values\": 5,\n        \"samples\": [\n          -2.2798720148236136e-17,\n          4.143758620438856,\n          1.0000001338985738\n        ],\n        \"semantic_type\": \"\",\n        \"description\": \"\"\n      }\n    },\n    {\n      \"column\": \"scaled_tcp\",\n      \"properties\": {\n        \"dtype\": \"number\",\n        \"std\": 1320494.2728857265,\n        \"min\": -1.1606420718331212,\n        \"max\": 3734922.0,\n        \"num_unique_values\": 5,\n        \"samples\": [\n          1.1200746390583701e-16,\n          0.8615920655199045,\n          1.0000001338838382\n        ],\n        \"semantic_type\": \"\",\n        \"description\": \"\"\n      }\n    },\n    {\n      \"column\": \"scaled_tot_sum\",\n      \"properties\": {\n        \"dtype\": \"number\",\n        \"std\": 1320492.6916077617,\n        \"min\": -0.4855105417311511,\n        \"max\": 3734922.0,\n        \"num_unique_values\": 8,\n        \"samples\": [\n          3.910730062810549e-17,\n          -0.28422571066130276,\n          3734922.0\n        ],\n        \"semantic_type\": \"\",\n        \"description\": \"\"\n      }\n    },\n    {\n      \"column\": \"scaled_ack_flag_number\",\n      \"properties\": {\n        \"dtype\": \"number\",\n        \"std\": 1320494.2274619308,\n        \"min\": -0.375344621220494,\n        \"max\": 3734922.0,\n        \"num_unique_values\": 5,\n        \"samples\": [\n          7.630646404754268e-17,\n          2.664218276921987,\n          1.000000133838766\n        ],\n        \"semantic_type\": \"\",\n        \"description\": \"\"\n      }\n    }\n  ]\n}"
            }
          },
          "metadata": {},
          "execution_count": 21
        }
      ]
    },
    {
      "cell_type": "code",
      "source": [
        "import numpy as np\n",
        "\n",
        "# Check for non-numeric values\n",
        "print(\"Non-numeric values in 'benign':\")\n",
        "print(training_df[~training_df[\"is_benign\"].apply(lambda x: isinstance(x, (int, float, np.integer, np.floating)))])\n",
        "\n",
        "# Check for NaN values\n",
        "if training_df[\"is_benign\"].isnull().any():\n",
        "    print(\"NaN values found in 'benign'. Filling with 0.\")\n",
        "    training_df[\"is_benign\"] = training_df[\"is_benign\"].fillna(0)\n",
        "\n",
        "# Convert to integer, ensuring there are no type issues\n",
        "training_df[\"is_benign\"] = training_df[\"is_benign\"].astype(int)\n",
        "\n",
        "# Display the DataFrame info to confirm the change\n",
        "training_df.info()\n"
      ],
      "metadata": {
        "colab": {
          "base_uri": "https://localhost:8080/"
        },
        "id": "nZ6R5V4YPOBQ",
        "outputId": "57278b2f-38a2-493f-8783-c390ab336bfc"
      },
      "execution_count": null,
      "outputs": [
        {
          "output_type": "stream",
          "name": "stdout",
          "text": [
            "Non-numeric values in 'benign':\n",
            "Empty DataFrame\n",
            "Columns: [is_benign, scaled_weight2, scaled_iat2, scaled_number2, scaled_variance, scaled_duration, scaled_https, scaled_tcp, scaled_tot_sum, scaled_ack_flag_number]\n",
            "Index: []\n",
            "<class 'pandas.core.frame.DataFrame'>\n",
            "Index: 3734922 entries, 1279519 to 2115790\n",
            "Data columns (total 10 columns):\n",
            " #   Column                  Dtype  \n",
            "---  ------                  -----  \n",
            " 0   is_benign               int64  \n",
            " 1   scaled_weight2          float64\n",
            " 2   scaled_iat2             float64\n",
            " 3   scaled_number2          float64\n",
            " 4   scaled_variance         float64\n",
            " 5   scaled_duration         float64\n",
            " 6   scaled_https            float64\n",
            " 7   scaled_tcp              float64\n",
            " 8   scaled_tot_sum          float64\n",
            " 9   scaled_ack_flag_number  float64\n",
            "dtypes: float64(9), int64(1)\n",
            "memory usage: 313.4 MB\n"
          ]
        }
      ]
    },
    {
      "cell_type": "code",
      "source": [],
      "metadata": {
        "id": "WsQut8QIY0OK"
      },
      "execution_count": null,
      "outputs": []
    },
    {
      "cell_type": "code",
      "source": [
        "training_df.describe()"
      ],
      "metadata": {
        "colab": {
          "base_uri": "https://localhost:8080/",
          "height": 300
        },
        "id": "keZBVakWPR8Q",
        "outputId": "476d2347-8a21-4744-c58e-4635e57a0d80"
      },
      "execution_count": null,
      "outputs": [
        {
          "output_type": "execute_result",
          "data": {
            "text/plain": [
              "          is_benign  scaled_weight2   scaled_iat2  scaled_number2  \\\n",
              "count  3.734922e+06    3.734922e+06  3.734922e+06    3.734922e+06   \n",
              "mean   2.350625e-02    1.000000e+00  1.000000e+00    1.000000e+00   \n",
              "std    1.515048e-01    4.791401e+00  4.776166e+00    4.821996e+00   \n",
              "min    0.000000e+00    3.910391e-06  1.443430e-06    4.204228e-06   \n",
              "25%    0.000000e+00    3.910391e-06  2.209163e-05    4.204228e-06   \n",
              "50%    0.000000e+00    3.910391e-06  7.767669e-05    4.204228e-06   \n",
              "75%    0.000000e+00    3.910391e-06  1.161128e-04    4.204228e-06   \n",
              "max    1.000000e+00    4.445521e+01  2.453723e+01    1.075527e+02   \n",
              "\n",
              "       scaled_variance  scaled_duration  scaled_https    scaled_tcp  \\\n",
              "count     3.734922e+06     3.734922e+06  3.734922e+06  3.734922e+06   \n",
              "mean      1.510605e-16     2.084949e-15 -2.279872e-17  1.120075e-16   \n",
              "std       1.000000e+00     1.000000e+00  1.000000e+00  1.000000e+00   \n",
              "min      -4.138298e-01    -4.731379e+00 -2.413268e-01 -1.160642e+00   \n",
              "25%      -4.138298e-01    -1.676907e-01 -2.413268e-01 -1.160642e+00   \n",
              "50%      -4.138298e-01    -1.676907e-01 -2.413268e-01  8.615921e-01   \n",
              "75%      -7.058573e-02    -1.676907e-01 -2.413268e-01  8.615921e-01   \n",
              "max       3.876721e+00     1.345207e+01  4.143759e+00  8.615921e-01   \n",
              "\n",
              "       scaled_tot_sum  scaled_ack_flag_number  \n",
              "count    3.734922e+06            3.734922e+06  \n",
              "mean     3.910730e-17            7.630646e-17  \n",
              "std      1.000000e+00            1.000000e+00  \n",
              "min     -4.855105e-01           -3.753446e-01  \n",
              "25%     -3.003285e-01           -3.753446e-01  \n",
              "50%     -2.842257e-01           -3.753446e-01  \n",
              "75%     -2.840187e-01           -3.753446e-01  \n",
              "max      3.292628e+01            2.664218e+00  "
            ],
            "text/html": [
              "\n",
              "  <div id=\"df-822d5360-ce53-46f5-8887-df8231b22b3c\" class=\"colab-df-container\">\n",
              "    <div>\n",
              "<style scoped>\n",
              "    .dataframe tbody tr th:only-of-type {\n",
              "        vertical-align: middle;\n",
              "    }\n",
              "\n",
              "    .dataframe tbody tr th {\n",
              "        vertical-align: top;\n",
              "    }\n",
              "\n",
              "    .dataframe thead th {\n",
              "        text-align: right;\n",
              "    }\n",
              "</style>\n",
              "<table border=\"1\" class=\"dataframe\">\n",
              "  <thead>\n",
              "    <tr style=\"text-align: right;\">\n",
              "      <th></th>\n",
              "      <th>is_benign</th>\n",
              "      <th>scaled_weight2</th>\n",
              "      <th>scaled_iat2</th>\n",
              "      <th>scaled_number2</th>\n",
              "      <th>scaled_variance</th>\n",
              "      <th>scaled_duration</th>\n",
              "      <th>scaled_https</th>\n",
              "      <th>scaled_tcp</th>\n",
              "      <th>scaled_tot_sum</th>\n",
              "      <th>scaled_ack_flag_number</th>\n",
              "    </tr>\n",
              "  </thead>\n",
              "  <tbody>\n",
              "    <tr>\n",
              "      <th>count</th>\n",
              "      <td>3.734922e+06</td>\n",
              "      <td>3.734922e+06</td>\n",
              "      <td>3.734922e+06</td>\n",
              "      <td>3.734922e+06</td>\n",
              "      <td>3.734922e+06</td>\n",
              "      <td>3.734922e+06</td>\n",
              "      <td>3.734922e+06</td>\n",
              "      <td>3.734922e+06</td>\n",
              "      <td>3.734922e+06</td>\n",
              "      <td>3.734922e+06</td>\n",
              "    </tr>\n",
              "    <tr>\n",
              "      <th>mean</th>\n",
              "      <td>2.350625e-02</td>\n",
              "      <td>1.000000e+00</td>\n",
              "      <td>1.000000e+00</td>\n",
              "      <td>1.000000e+00</td>\n",
              "      <td>1.510605e-16</td>\n",
              "      <td>2.084949e-15</td>\n",
              "      <td>-2.279872e-17</td>\n",
              "      <td>1.120075e-16</td>\n",
              "      <td>3.910730e-17</td>\n",
              "      <td>7.630646e-17</td>\n",
              "    </tr>\n",
              "    <tr>\n",
              "      <th>std</th>\n",
              "      <td>1.515048e-01</td>\n",
              "      <td>4.791401e+00</td>\n",
              "      <td>4.776166e+00</td>\n",
              "      <td>4.821996e+00</td>\n",
              "      <td>1.000000e+00</td>\n",
              "      <td>1.000000e+00</td>\n",
              "      <td>1.000000e+00</td>\n",
              "      <td>1.000000e+00</td>\n",
              "      <td>1.000000e+00</td>\n",
              "      <td>1.000000e+00</td>\n",
              "    </tr>\n",
              "    <tr>\n",
              "      <th>min</th>\n",
              "      <td>0.000000e+00</td>\n",
              "      <td>3.910391e-06</td>\n",
              "      <td>1.443430e-06</td>\n",
              "      <td>4.204228e-06</td>\n",
              "      <td>-4.138298e-01</td>\n",
              "      <td>-4.731379e+00</td>\n",
              "      <td>-2.413268e-01</td>\n",
              "      <td>-1.160642e+00</td>\n",
              "      <td>-4.855105e-01</td>\n",
              "      <td>-3.753446e-01</td>\n",
              "    </tr>\n",
              "    <tr>\n",
              "      <th>25%</th>\n",
              "      <td>0.000000e+00</td>\n",
              "      <td>3.910391e-06</td>\n",
              "      <td>2.209163e-05</td>\n",
              "      <td>4.204228e-06</td>\n",
              "      <td>-4.138298e-01</td>\n",
              "      <td>-1.676907e-01</td>\n",
              "      <td>-2.413268e-01</td>\n",
              "      <td>-1.160642e+00</td>\n",
              "      <td>-3.003285e-01</td>\n",
              "      <td>-3.753446e-01</td>\n",
              "    </tr>\n",
              "    <tr>\n",
              "      <th>50%</th>\n",
              "      <td>0.000000e+00</td>\n",
              "      <td>3.910391e-06</td>\n",
              "      <td>7.767669e-05</td>\n",
              "      <td>4.204228e-06</td>\n",
              "      <td>-4.138298e-01</td>\n",
              "      <td>-1.676907e-01</td>\n",
              "      <td>-2.413268e-01</td>\n",
              "      <td>8.615921e-01</td>\n",
              "      <td>-2.842257e-01</td>\n",
              "      <td>-3.753446e-01</td>\n",
              "    </tr>\n",
              "    <tr>\n",
              "      <th>75%</th>\n",
              "      <td>0.000000e+00</td>\n",
              "      <td>3.910391e-06</td>\n",
              "      <td>1.161128e-04</td>\n",
              "      <td>4.204228e-06</td>\n",
              "      <td>-7.058573e-02</td>\n",
              "      <td>-1.676907e-01</td>\n",
              "      <td>-2.413268e-01</td>\n",
              "      <td>8.615921e-01</td>\n",
              "      <td>-2.840187e-01</td>\n",
              "      <td>-3.753446e-01</td>\n",
              "    </tr>\n",
              "    <tr>\n",
              "      <th>max</th>\n",
              "      <td>1.000000e+00</td>\n",
              "      <td>4.445521e+01</td>\n",
              "      <td>2.453723e+01</td>\n",
              "      <td>1.075527e+02</td>\n",
              "      <td>3.876721e+00</td>\n",
              "      <td>1.345207e+01</td>\n",
              "      <td>4.143759e+00</td>\n",
              "      <td>8.615921e-01</td>\n",
              "      <td>3.292628e+01</td>\n",
              "      <td>2.664218e+00</td>\n",
              "    </tr>\n",
              "  </tbody>\n",
              "</table>\n",
              "</div>\n",
              "    <div class=\"colab-df-buttons\">\n",
              "\n",
              "  <div class=\"colab-df-container\">\n",
              "    <button class=\"colab-df-convert\" onclick=\"convertToInteractive('df-822d5360-ce53-46f5-8887-df8231b22b3c')\"\n",
              "            title=\"Convert this dataframe to an interactive table.\"\n",
              "            style=\"display:none;\">\n",
              "\n",
              "  <svg xmlns=\"http://www.w3.org/2000/svg\" height=\"24px\" viewBox=\"0 -960 960 960\">\n",
              "    <path d=\"M120-120v-720h720v720H120Zm60-500h600v-160H180v160Zm220 220h160v-160H400v160Zm0 220h160v-160H400v160ZM180-400h160v-160H180v160Zm440 0h160v-160H620v160ZM180-180h160v-160H180v160Zm440 0h160v-160H620v160Z\"/>\n",
              "  </svg>\n",
              "    </button>\n",
              "\n",
              "  <style>\n",
              "    .colab-df-container {\n",
              "      display:flex;\n",
              "      gap: 12px;\n",
              "    }\n",
              "\n",
              "    .colab-df-convert {\n",
              "      background-color: #E8F0FE;\n",
              "      border: none;\n",
              "      border-radius: 50%;\n",
              "      cursor: pointer;\n",
              "      display: none;\n",
              "      fill: #1967D2;\n",
              "      height: 32px;\n",
              "      padding: 0 0 0 0;\n",
              "      width: 32px;\n",
              "    }\n",
              "\n",
              "    .colab-df-convert:hover {\n",
              "      background-color: #E2EBFA;\n",
              "      box-shadow: 0px 1px 2px rgba(60, 64, 67, 0.3), 0px 1px 3px 1px rgba(60, 64, 67, 0.15);\n",
              "      fill: #174EA6;\n",
              "    }\n",
              "\n",
              "    .colab-df-buttons div {\n",
              "      margin-bottom: 4px;\n",
              "    }\n",
              "\n",
              "    [theme=dark] .colab-df-convert {\n",
              "      background-color: #3B4455;\n",
              "      fill: #D2E3FC;\n",
              "    }\n",
              "\n",
              "    [theme=dark] .colab-df-convert:hover {\n",
              "      background-color: #434B5C;\n",
              "      box-shadow: 0px 1px 3px 1px rgba(0, 0, 0, 0.15);\n",
              "      filter: drop-shadow(0px 1px 2px rgba(0, 0, 0, 0.3));\n",
              "      fill: #FFFFFF;\n",
              "    }\n",
              "  </style>\n",
              "\n",
              "    <script>\n",
              "      const buttonEl =\n",
              "        document.querySelector('#df-822d5360-ce53-46f5-8887-df8231b22b3c button.colab-df-convert');\n",
              "      buttonEl.style.display =\n",
              "        google.colab.kernel.accessAllowed ? 'block' : 'none';\n",
              "\n",
              "      async function convertToInteractive(key) {\n",
              "        const element = document.querySelector('#df-822d5360-ce53-46f5-8887-df8231b22b3c');\n",
              "        const dataTable =\n",
              "          await google.colab.kernel.invokeFunction('convertToInteractive',\n",
              "                                                    [key], {});\n",
              "        if (!dataTable) return;\n",
              "\n",
              "        const docLinkHtml = 'Like what you see? Visit the ' +\n",
              "          '<a target=\"_blank\" href=https://colab.research.google.com/notebooks/data_table.ipynb>data table notebook</a>'\n",
              "          + ' to learn more about interactive tables.';\n",
              "        element.innerHTML = '';\n",
              "        dataTable['output_type'] = 'display_data';\n",
              "        await google.colab.output.renderOutput(dataTable, element);\n",
              "        const docLink = document.createElement('div');\n",
              "        docLink.innerHTML = docLinkHtml;\n",
              "        element.appendChild(docLink);\n",
              "      }\n",
              "    </script>\n",
              "  </div>\n",
              "\n",
              "\n",
              "    <div id=\"df-6d72bf6b-e29e-4c2c-b9f9-ed72e72809f1\">\n",
              "      <button class=\"colab-df-quickchart\" onclick=\"quickchart('df-6d72bf6b-e29e-4c2c-b9f9-ed72e72809f1')\"\n",
              "                title=\"Suggest charts\"\n",
              "                style=\"display:none;\">\n",
              "\n",
              "<svg xmlns=\"http://www.w3.org/2000/svg\" height=\"24px\"viewBox=\"0 0 24 24\"\n",
              "     width=\"24px\">\n",
              "    <g>\n",
              "        <path d=\"M19 3H5c-1.1 0-2 .9-2 2v14c0 1.1.9 2 2 2h14c1.1 0 2-.9 2-2V5c0-1.1-.9-2-2-2zM9 17H7v-7h2v7zm4 0h-2V7h2v10zm4 0h-2v-4h2v4z\"/>\n",
              "    </g>\n",
              "</svg>\n",
              "      </button>\n",
              "\n",
              "<style>\n",
              "  .colab-df-quickchart {\n",
              "      --bg-color: #E8F0FE;\n",
              "      --fill-color: #1967D2;\n",
              "      --hover-bg-color: #E2EBFA;\n",
              "      --hover-fill-color: #174EA6;\n",
              "      --disabled-fill-color: #AAA;\n",
              "      --disabled-bg-color: #DDD;\n",
              "  }\n",
              "\n",
              "  [theme=dark] .colab-df-quickchart {\n",
              "      --bg-color: #3B4455;\n",
              "      --fill-color: #D2E3FC;\n",
              "      --hover-bg-color: #434B5C;\n",
              "      --hover-fill-color: #FFFFFF;\n",
              "      --disabled-bg-color: #3B4455;\n",
              "      --disabled-fill-color: #666;\n",
              "  }\n",
              "\n",
              "  .colab-df-quickchart {\n",
              "    background-color: var(--bg-color);\n",
              "    border: none;\n",
              "    border-radius: 50%;\n",
              "    cursor: pointer;\n",
              "    display: none;\n",
              "    fill: var(--fill-color);\n",
              "    height: 32px;\n",
              "    padding: 0;\n",
              "    width: 32px;\n",
              "  }\n",
              "\n",
              "  .colab-df-quickchart:hover {\n",
              "    background-color: var(--hover-bg-color);\n",
              "    box-shadow: 0 1px 2px rgba(60, 64, 67, 0.3), 0 1px 3px 1px rgba(60, 64, 67, 0.15);\n",
              "    fill: var(--button-hover-fill-color);\n",
              "  }\n",
              "\n",
              "  .colab-df-quickchart-complete:disabled,\n",
              "  .colab-df-quickchart-complete:disabled:hover {\n",
              "    background-color: var(--disabled-bg-color);\n",
              "    fill: var(--disabled-fill-color);\n",
              "    box-shadow: none;\n",
              "  }\n",
              "\n",
              "  .colab-df-spinner {\n",
              "    border: 2px solid var(--fill-color);\n",
              "    border-color: transparent;\n",
              "    border-bottom-color: var(--fill-color);\n",
              "    animation:\n",
              "      spin 1s steps(1) infinite;\n",
              "  }\n",
              "\n",
              "  @keyframes spin {\n",
              "    0% {\n",
              "      border-color: transparent;\n",
              "      border-bottom-color: var(--fill-color);\n",
              "      border-left-color: var(--fill-color);\n",
              "    }\n",
              "    20% {\n",
              "      border-color: transparent;\n",
              "      border-left-color: var(--fill-color);\n",
              "      border-top-color: var(--fill-color);\n",
              "    }\n",
              "    30% {\n",
              "      border-color: transparent;\n",
              "      border-left-color: var(--fill-color);\n",
              "      border-top-color: var(--fill-color);\n",
              "      border-right-color: var(--fill-color);\n",
              "    }\n",
              "    40% {\n",
              "      border-color: transparent;\n",
              "      border-right-color: var(--fill-color);\n",
              "      border-top-color: var(--fill-color);\n",
              "    }\n",
              "    60% {\n",
              "      border-color: transparent;\n",
              "      border-right-color: var(--fill-color);\n",
              "    }\n",
              "    80% {\n",
              "      border-color: transparent;\n",
              "      border-right-color: var(--fill-color);\n",
              "      border-bottom-color: var(--fill-color);\n",
              "    }\n",
              "    90% {\n",
              "      border-color: transparent;\n",
              "      border-bottom-color: var(--fill-color);\n",
              "    }\n",
              "  }\n",
              "</style>\n",
              "\n",
              "      <script>\n",
              "        async function quickchart(key) {\n",
              "          const quickchartButtonEl =\n",
              "            document.querySelector('#' + key + ' button');\n",
              "          quickchartButtonEl.disabled = true;  // To prevent multiple clicks.\n",
              "          quickchartButtonEl.classList.add('colab-df-spinner');\n",
              "          try {\n",
              "            const charts = await google.colab.kernel.invokeFunction(\n",
              "                'suggestCharts', [key], {});\n",
              "          } catch (error) {\n",
              "            console.error('Error during call to suggestCharts:', error);\n",
              "          }\n",
              "          quickchartButtonEl.classList.remove('colab-df-spinner');\n",
              "          quickchartButtonEl.classList.add('colab-df-quickchart-complete');\n",
              "        }\n",
              "        (() => {\n",
              "          let quickchartButtonEl =\n",
              "            document.querySelector('#df-6d72bf6b-e29e-4c2c-b9f9-ed72e72809f1 button');\n",
              "          quickchartButtonEl.style.display =\n",
              "            google.colab.kernel.accessAllowed ? 'block' : 'none';\n",
              "        })();\n",
              "      </script>\n",
              "    </div>\n",
              "\n",
              "    </div>\n",
              "  </div>\n"
            ],
            "application/vnd.google.colaboratory.intrinsic+json": {
              "type": "dataframe",
              "summary": "{\n  \"name\": \"training_df\",\n  \"rows\": 8,\n  \"fields\": [\n    {\n      \"column\": \"is_benign\",\n      \"properties\": {\n        \"dtype\": \"number\",\n        \"std\": 1320494.277354435,\n        \"min\": 0.0,\n        \"max\": 3734922.0,\n        \"num_unique_values\": 5,\n        \"samples\": [\n          0.023506247252285322,\n          1.0,\n          0.1515048175361822\n        ],\n        \"semantic_type\": \"\",\n        \"description\": \"\"\n      }\n    },\n    {\n      \"column\": \"scaled_weight2\",\n      \"properties\": {\n        \"dtype\": \"number\",\n        \"std\": 1320491.7989520424,\n        \"min\": 3.910391483766503e-06,\n        \"max\": 3734922.0,\n        \"num_unique_values\": 5,\n        \"samples\": [\n          0.9999999999999992,\n          44.45521340916683,\n          4.791400916685034\n        ],\n        \"semantic_type\": \"\",\n        \"description\": \"\"\n      }\n    },\n    {\n      \"column\": \"scaled_iat2\",\n      \"properties\": {\n        \"dtype\": \"number\",\n        \"std\": 1320492.805659563,\n        \"min\": 1.4434301485988812e-06,\n        \"max\": 3734922.0,\n        \"num_unique_values\": 8,\n        \"samples\": [\n          0.9999999999999999,\n          7.767669154179545e-05,\n          3734922.0\n        ],\n        \"semantic_type\": \"\",\n        \"description\": \"\"\n      }\n    },\n    {\n      \"column\": \"scaled_number2\",\n      \"properties\": {\n        \"dtype\": \"number\",\n        \"std\": 1320488.6109432022,\n        \"min\": 4.204228002581608e-06,\n        \"max\": 3734922.0,\n        \"num_unique_values\": 5,\n        \"samples\": [\n          1.000000000000001,\n          107.55266379485502,\n          4.821996177491272\n        ],\n        \"semantic_type\": \"\",\n        \"description\": \"\"\n      }\n    },\n    {\n      \"column\": \"scaled_variance\",\n      \"properties\": {\n        \"dtype\": \"number\",\n        \"std\": 1320494.1566604022,\n        \"min\": -0.41382978057711844,\n        \"max\": 3734922.0,\n        \"num_unique_values\": 6,\n        \"samples\": [\n          3734922.0,\n          1.5106054528125352e-16,\n          3.8767208318618023\n        ],\n        \"semantic_type\": \"\",\n        \"description\": \"\"\n      }\n    },\n    {\n      \"column\": \"scaled_duration\",\n      \"properties\": {\n        \"dtype\": \"number\",\n        \"std\": 1320493.8711519053,\n        \"min\": -4.73137921662757,\n        \"max\": 3734922.0,\n        \"num_unique_values\": 6,\n        \"samples\": [\n          3734922.0,\n          2.084949045331935e-15,\n          13.452067130815855\n        ],\n        \"semantic_type\": \"\",\n        \"description\": \"\"\n      }\n    },\n    {\n      \"column\": \"scaled_https\",\n      \"properties\": {\n        \"dtype\": \"number\",\n        \"std\": 1320494.1256585978,\n        \"min\": -0.2413267981072929,\n        \"max\": 3734922.0,\n        \"num_unique_values\": 5,\n        \"samples\": [\n          -2.2798720148236136e-17,\n          4.143758620438856,\n          1.0000001338985738\n        ],\n        \"semantic_type\": \"\",\n        \"description\": \"\"\n      }\n    },\n    {\n      \"column\": \"scaled_tcp\",\n      \"properties\": {\n        \"dtype\": \"number\",\n        \"std\": 1320494.2728857265,\n        \"min\": -1.1606420718331212,\n        \"max\": 3734922.0,\n        \"num_unique_values\": 5,\n        \"samples\": [\n          1.1200746390583701e-16,\n          0.8615920655199045,\n          1.0000001338838382\n        ],\n        \"semantic_type\": \"\",\n        \"description\": \"\"\n      }\n    },\n    {\n      \"column\": \"scaled_tot_sum\",\n      \"properties\": {\n        \"dtype\": \"number\",\n        \"std\": 1320492.6916077617,\n        \"min\": -0.4855105417311511,\n        \"max\": 3734922.0,\n        \"num_unique_values\": 8,\n        \"samples\": [\n          3.910730062810549e-17,\n          -0.28422571066130276,\n          3734922.0\n        ],\n        \"semantic_type\": \"\",\n        \"description\": \"\"\n      }\n    },\n    {\n      \"column\": \"scaled_ack_flag_number\",\n      \"properties\": {\n        \"dtype\": \"number\",\n        \"std\": 1320494.2274619308,\n        \"min\": -0.375344621220494,\n        \"max\": 3734922.0,\n        \"num_unique_values\": 5,\n        \"samples\": [\n          7.630646404754268e-17,\n          2.664218276921987,\n          1.000000133838766\n        ],\n        \"semantic_type\": \"\",\n        \"description\": \"\"\n      }\n    }\n  ]\n}"
            }
          },
          "metadata": {},
          "execution_count": 23
        }
      ]
    },
    {
      "cell_type": "code",
      "source": [
        "training_df[\"is_benign\"] = training_df[\"is_benign\"].astype(bool)"
      ],
      "metadata": {
        "id": "Dyh_9ik1PaKQ"
      },
      "execution_count": null,
      "outputs": []
    },
    {
      "cell_type": "markdown",
      "source": [
        "# Model tranning"
      ],
      "metadata": {
        "id": "DvBrGmODWS6h"
      }
    },
    {
      "cell_type": "code",
      "source": [
        "# X: dữ liệu đầu vào (features)\n",
        "X = training_df.drop(\"is_benign\", axis=1).values\n",
        "\n",
        "# y: nhãn (label), 0 = malicious, 1 = benign\n",
        "y = training_df[\"is_benign\"].values"
      ],
      "metadata": {
        "id": "7ZhWIqQ-WWgn"
      },
      "execution_count": null,
      "outputs": []
    },
    {
      "cell_type": "code",
      "source": [
        "def create_sequences(X, y, seq_len=10):\n",
        "    Xs, ys = [], []\n",
        "    for i in range(len(X) - seq_len):\n",
        "        Xs.append(X[i:i+seq_len])\n",
        "        ys.append(y[i+seq_len])  # label là tại thời điểm cuối của chuỗi\n",
        "    return np.array(Xs), np.array(ys)\n",
        "\n",
        "sequence_length = 10\n",
        "X_seq, y_seq = create_sequences(X, y, sequence_length)\n",
        "print(\"Shape of sequences:\", X_seq.shape)  # (samples, 10, num_features)"
      ],
      "metadata": {
        "colab": {
          "base_uri": "https://localhost:8080/"
        },
        "id": "3RLbEJnnY2Da",
        "outputId": "dbe7ea99-8d7e-40bb-d9ac-a851703a5f34"
      },
      "execution_count": null,
      "outputs": [
        {
          "output_type": "stream",
          "name": "stdout",
          "text": [
            "Shape of sequences: (3734912, 10, 9)\n"
          ]
        }
      ]
    },
    {
      "cell_type": "code",
      "source": [
        "from sklearn.model_selection import train_test_split\n",
        "\n",
        "X_train, X_test, y_train, y_test = train_test_split(\n",
        "    X_seq, y_seq,\n",
        "    test_size=0.2,\n",
        "    random_state=42,\n",
        "    stratify=y_seq\n",
        ")\n",
        "\n",
        "print(\"Train shape:\", X_train.shape)\n",
        "print(\"Test shape:\", X_test.shape)"
      ],
      "metadata": {
        "colab": {
          "base_uri": "https://localhost:8080/"
        },
        "id": "Qp-V4iP0ZH6Z",
        "outputId": "7388db2a-713e-45d2-f613-ff9e8ad9d914"
      },
      "execution_count": null,
      "outputs": [
        {
          "output_type": "stream",
          "name": "stdout",
          "text": [
            "Train shape: (2987929, 10, 9)\n",
            "Test shape: (746983, 10, 9)\n"
          ]
        }
      ]
    },
    {
      "cell_type": "code",
      "source": [
        "from tensorflow.keras.models import Sequential\n",
        "from tensorflow.keras.layers import LSTM, Dense, Dropout\n",
        "\n",
        "model = Sequential()\n",
        "model.add(LSTM(64, input_shape=(X_train.shape[1], X_train.shape[2])))\n",
        "model.add(Dropout(0.3))\n",
        "model.add(Dense(1, activation='sigmoid'))  # Dự đoán nhị phân\n",
        "\n",
        "model.compile(optimizer='adam', loss='binary_crossentropy', metrics=['accuracy'])\n",
        "model.summary()"
      ],
      "metadata": {
        "colab": {
          "base_uri": "https://localhost:8080/",
          "height": 286
        },
        "id": "_P9usR4yZZ1K",
        "outputId": "27918c47-ecec-41f5-addc-a51f05887689"
      },
      "execution_count": null,
      "outputs": [
        {
          "output_type": "stream",
          "name": "stderr",
          "text": [
            "/usr/local/lib/python3.11/dist-packages/keras/src/layers/rnn/rnn.py:199: UserWarning: Do not pass an `input_shape`/`input_dim` argument to a layer. When using Sequential models, prefer using an `Input(shape)` object as the first layer in the model instead.\n",
            "  super().__init__(**kwargs)\n"
          ]
        },
        {
          "output_type": "display_data",
          "data": {
            "text/plain": [
              "\u001b[1mModel: \"sequential\"\u001b[0m\n"
            ],
            "text/html": [
              "<pre style=\"white-space:pre;overflow-x:auto;line-height:normal;font-family:Menlo,'DejaVu Sans Mono',consolas,'Courier New',monospace\"><span style=\"font-weight: bold\">Model: \"sequential\"</span>\n",
              "</pre>\n"
            ]
          },
          "metadata": {}
        },
        {
          "output_type": "display_data",
          "data": {
            "text/plain": [
              "┏━━━━━━━━━━━━━━━━━━━━━━━━━━━━━━━━━┳━━━━━━━━━━━━━━━━━━━━━━━━┳━━━━━━━━━━━━━━━┓\n",
              "┃\u001b[1m \u001b[0m\u001b[1mLayer (type)                   \u001b[0m\u001b[1m \u001b[0m┃\u001b[1m \u001b[0m\u001b[1mOutput Shape          \u001b[0m\u001b[1m \u001b[0m┃\u001b[1m \u001b[0m\u001b[1m      Param #\u001b[0m\u001b[1m \u001b[0m┃\n",
              "┡━━━━━━━━━━━━━━━━━━━━━━━━━━━━━━━━━╇━━━━━━━━━━━━━━━━━━━━━━━━╇━━━━━━━━━━━━━━━┩\n",
              "│ lstm (\u001b[38;5;33mLSTM\u001b[0m)                     │ (\u001b[38;5;45mNone\u001b[0m, \u001b[38;5;34m64\u001b[0m)             │        \u001b[38;5;34m18,944\u001b[0m │\n",
              "├─────────────────────────────────┼────────────────────────┼───────────────┤\n",
              "│ dropout (\u001b[38;5;33mDropout\u001b[0m)               │ (\u001b[38;5;45mNone\u001b[0m, \u001b[38;5;34m64\u001b[0m)             │             \u001b[38;5;34m0\u001b[0m │\n",
              "├─────────────────────────────────┼────────────────────────┼───────────────┤\n",
              "│ dense (\u001b[38;5;33mDense\u001b[0m)                   │ (\u001b[38;5;45mNone\u001b[0m, \u001b[38;5;34m1\u001b[0m)              │            \u001b[38;5;34m65\u001b[0m │\n",
              "└─────────────────────────────────┴────────────────────────┴───────────────┘\n"
            ],
            "text/html": [
              "<pre style=\"white-space:pre;overflow-x:auto;line-height:normal;font-family:Menlo,'DejaVu Sans Mono',consolas,'Courier New',monospace\">┏━━━━━━━━━━━━━━━━━━━━━━━━━━━━━━━━━┳━━━━━━━━━━━━━━━━━━━━━━━━┳━━━━━━━━━━━━━━━┓\n",
              "┃<span style=\"font-weight: bold\"> Layer (type)                    </span>┃<span style=\"font-weight: bold\"> Output Shape           </span>┃<span style=\"font-weight: bold\">       Param # </span>┃\n",
              "┡━━━━━━━━━━━━━━━━━━━━━━━━━━━━━━━━━╇━━━━━━━━━━━━━━━━━━━━━━━━╇━━━━━━━━━━━━━━━┩\n",
              "│ lstm (<span style=\"color: #0087ff; text-decoration-color: #0087ff\">LSTM</span>)                     │ (<span style=\"color: #00d7ff; text-decoration-color: #00d7ff\">None</span>, <span style=\"color: #00af00; text-decoration-color: #00af00\">64</span>)             │        <span style=\"color: #00af00; text-decoration-color: #00af00\">18,944</span> │\n",
              "├─────────────────────────────────┼────────────────────────┼───────────────┤\n",
              "│ dropout (<span style=\"color: #0087ff; text-decoration-color: #0087ff\">Dropout</span>)               │ (<span style=\"color: #00d7ff; text-decoration-color: #00d7ff\">None</span>, <span style=\"color: #00af00; text-decoration-color: #00af00\">64</span>)             │             <span style=\"color: #00af00; text-decoration-color: #00af00\">0</span> │\n",
              "├─────────────────────────────────┼────────────────────────┼───────────────┤\n",
              "│ dense (<span style=\"color: #0087ff; text-decoration-color: #0087ff\">Dense</span>)                   │ (<span style=\"color: #00d7ff; text-decoration-color: #00d7ff\">None</span>, <span style=\"color: #00af00; text-decoration-color: #00af00\">1</span>)              │            <span style=\"color: #00af00; text-decoration-color: #00af00\">65</span> │\n",
              "└─────────────────────────────────┴────────────────────────┴───────────────┘\n",
              "</pre>\n"
            ]
          },
          "metadata": {}
        },
        {
          "output_type": "display_data",
          "data": {
            "text/plain": [
              "\u001b[1m Total params: \u001b[0m\u001b[38;5;34m19,009\u001b[0m (74.25 KB)\n"
            ],
            "text/html": [
              "<pre style=\"white-space:pre;overflow-x:auto;line-height:normal;font-family:Menlo,'DejaVu Sans Mono',consolas,'Courier New',monospace\"><span style=\"font-weight: bold\"> Total params: </span><span style=\"color: #00af00; text-decoration-color: #00af00\">19,009</span> (74.25 KB)\n",
              "</pre>\n"
            ]
          },
          "metadata": {}
        },
        {
          "output_type": "display_data",
          "data": {
            "text/plain": [
              "\u001b[1m Trainable params: \u001b[0m\u001b[38;5;34m19,009\u001b[0m (74.25 KB)\n"
            ],
            "text/html": [
              "<pre style=\"white-space:pre;overflow-x:auto;line-height:normal;font-family:Menlo,'DejaVu Sans Mono',consolas,'Courier New',monospace\"><span style=\"font-weight: bold\"> Trainable params: </span><span style=\"color: #00af00; text-decoration-color: #00af00\">19,009</span> (74.25 KB)\n",
              "</pre>\n"
            ]
          },
          "metadata": {}
        },
        {
          "output_type": "display_data",
          "data": {
            "text/plain": [
              "\u001b[1m Non-trainable params: \u001b[0m\u001b[38;5;34m0\u001b[0m (0.00 B)\n"
            ],
            "text/html": [
              "<pre style=\"white-space:pre;overflow-x:auto;line-height:normal;font-family:Menlo,'DejaVu Sans Mono',consolas,'Courier New',monospace\"><span style=\"font-weight: bold\"> Non-trainable params: </span><span style=\"color: #00af00; text-decoration-color: #00af00\">0</span> (0.00 B)\n",
              "</pre>\n"
            ]
          },
          "metadata": {}
        }
      ]
    },
    {
      "cell_type": "code",
      "source": [
        "from tensorflow.keras.callbacks import EarlyStopping\n",
        "\n",
        "early_stop = EarlyStopping(monitor='val_loss', patience=3, restore_best_weights=True)\n",
        "\n",
        "history = model.fit(\n",
        "    X_train, y_train,\n",
        "    validation_data=(X_test, y_test),\n",
        "    epochs=15,\n",
        "    batch_size=64,\n",
        "    callbacks=[early_stop],\n",
        "    verbose=1\n",
        ")"
      ],
      "metadata": {
        "id": "csv07G4FZcOZ",
        "colab": {
          "base_uri": "https://localhost:8080/"
        },
        "outputId": "316b8b1d-5e57-446f-fc62-8c482ca5deb3"
      },
      "execution_count": null,
      "outputs": [
        {
          "output_type": "stream",
          "name": "stdout",
          "text": [
            "Epoch 1/15\n",
            "\u001b[1m46687/46687\u001b[0m \u001b[32m━━━━━━━━━━━━━━━━━━━━\u001b[0m\u001b[37m\u001b[0m \u001b[1m413s\u001b[0m 9ms/step - accuracy: 0.9763 - loss: 0.1142 - val_accuracy: 0.9765 - val_loss: 0.1117\n",
            "Epoch 2/15\n",
            "\u001b[1m46687/46687\u001b[0m \u001b[32m━━━━━━━━━━━━━━━━━━━━\u001b[0m\u001b[37m\u001b[0m \u001b[1m479s\u001b[0m 10ms/step - accuracy: 0.9766 - loss: 0.1117 - val_accuracy: 0.9765 - val_loss: 0.1116\n",
            "Epoch 3/15\n",
            "\u001b[1m46687/46687\u001b[0m \u001b[32m━━━━━━━━━━━━━━━━━━━━\u001b[0m\u001b[37m\u001b[0m \u001b[1m468s\u001b[0m 9ms/step - accuracy: 0.9766 - loss: 0.1113 - val_accuracy: 0.9765 - val_loss: 0.1117\n",
            "Epoch 4/15\n",
            "\u001b[1m46687/46687\u001b[0m \u001b[32m━━━━━━━━━━━━━━━━━━━━\u001b[0m\u001b[37m\u001b[0m \u001b[1m410s\u001b[0m 9ms/step - accuracy: 0.9766 - loss: 0.1112 - val_accuracy: 0.9765 - val_loss: 0.1116\n",
            "Epoch 5/15\n",
            "\u001b[1m46687/46687\u001b[0m \u001b[32m━━━━━━━━━━━━━━━━━━━━\u001b[0m\u001b[37m\u001b[0m \u001b[1m436s\u001b[0m 9ms/step - accuracy: 0.9766 - loss: 0.1111 - val_accuracy: 0.9765 - val_loss: 0.1116\n",
            "Epoch 6/15\n",
            "\u001b[1m46687/46687\u001b[0m \u001b[32m━━━━━━━━━━━━━━━━━━━━\u001b[0m\u001b[37m\u001b[0m \u001b[1m395s\u001b[0m 8ms/step - accuracy: 0.9766 - loss: 0.1111 - val_accuracy: 0.9765 - val_loss: 0.1116\n",
            "Epoch 7/15\n",
            "\u001b[1m46687/46687\u001b[0m \u001b[32m━━━━━━━━━━━━━━━━━━━━\u001b[0m\u001b[37m\u001b[0m \u001b[1m454s\u001b[0m 9ms/step - accuracy: 0.9766 - loss: 0.1111 - val_accuracy: 0.9765 - val_loss: 0.1116\n",
            "Epoch 8/15\n",
            "\u001b[1m46687/46687\u001b[0m \u001b[32m━━━━━━━━━━━━━━━━━━━━\u001b[0m\u001b[37m\u001b[0m \u001b[1m473s\u001b[0m 9ms/step - accuracy: 0.9766 - loss: 0.1111 - val_accuracy: 0.9765 - val_loss: 0.1116\n",
            "Epoch 9/15\n",
            "\u001b[1m46687/46687\u001b[0m \u001b[32m━━━━━━━━━━━━━━━━━━━━\u001b[0m\u001b[37m\u001b[0m \u001b[1m410s\u001b[0m 9ms/step - accuracy: 0.9766 - loss: 0.1111 - val_accuracy: 0.9765 - val_loss: 0.1116\n",
            "Epoch 10/15\n",
            "\u001b[1m46687/46687\u001b[0m \u001b[32m━━━━━━━━━━━━━━━━━━━━\u001b[0m\u001b[37m\u001b[0m \u001b[1m437s\u001b[0m 9ms/step - accuracy: 0.9766 - loss: 0.1111 - val_accuracy: 0.9765 - val_loss: 0.1115\n",
            "Epoch 11/15\n",
            "\u001b[1m46687/46687\u001b[0m \u001b[32m━━━━━━━━━━━━━━━━━━━━\u001b[0m\u001b[37m\u001b[0m \u001b[1m478s\u001b[0m 9ms/step - accuracy: 0.9766 - loss: 0.1111 - val_accuracy: 0.9765 - val_loss: 0.1115\n",
            "Epoch 12/15\n",
            "\u001b[1m46687/46687\u001b[0m \u001b[32m━━━━━━━━━━━━━━━━━━━━\u001b[0m\u001b[37m\u001b[0m \u001b[1m413s\u001b[0m 9ms/step - accuracy: 0.9766 - loss: 0.1111 - val_accuracy: 0.9765 - val_loss: 0.1115\n",
            "Epoch 13/15\n",
            "\u001b[1m46687/46687\u001b[0m \u001b[32m━━━━━━━━━━━━━━━━━━━━\u001b[0m\u001b[37m\u001b[0m \u001b[1m451s\u001b[0m 10ms/step - accuracy: 0.9766 - loss: 0.1111 - val_accuracy: 0.9765 - val_loss: 0.1116\n",
            "Epoch 14/15\n",
            "\u001b[1m46687/46687\u001b[0m \u001b[32m━━━━━━━━━━━━━━━━━━━━\u001b[0m\u001b[37m\u001b[0m \u001b[1m501s\u001b[0m 10ms/step - accuracy: 0.9766 - loss: 0.1111 - val_accuracy: 0.9765 - val_loss: 0.1115\n"
          ]
        }
      ]
    },
    {
      "cell_type": "markdown",
      "source": [
        "## đánh giá mô hình\n"
      ],
      "metadata": {
        "id": "ocbz2dOE1hZt"
      }
    },
    {
      "cell_type": "code",
      "source": [
        "loss, acc = model.evaluate(X_test, y_test)\n",
        "print(f\"✅ Test Accuracy: {acc:.4f}\")\n",
        "print(f\"✅ Test Loss: {loss:.4f}\")"
      ],
      "metadata": {
        "id": "L7rywEz61j_n",
        "colab": {
          "base_uri": "https://localhost:8080/"
        },
        "outputId": "cc4d7593-0c3d-4055-ee48-21c98ec02b3d"
      },
      "execution_count": null,
      "outputs": [
        {
          "output_type": "stream",
          "name": "stdout",
          "text": [
            "\u001b[1m23344/23344\u001b[0m \u001b[32m━━━━━━━━━━━━━━━━━━━━\u001b[0m\u001b[37m\u001b[0m \u001b[1m70s\u001b[0m 3ms/step - accuracy: 0.9769 - loss: 0.1099\n",
            "✅ Test Accuracy: 0.9765\n",
            "✅ Test Loss: 0.1115\n"
          ]
        }
      ]
    },
    {
      "cell_type": "markdown",
      "source": [
        "## vẽ biểu đồ\n"
      ],
      "metadata": {
        "id": "Z03KP48W1ukE"
      }
    },
    {
      "cell_type": "code",
      "source": [
        "import matplotlib.pyplot as plt\n",
        "\n",
        "# Loss\n",
        "plt.plot(history.history['loss'], label='Train Loss')\n",
        "plt.plot(history.history['val_loss'], label='Val Loss')\n",
        "plt.title(\"Loss over Epochs\")\n",
        "plt.xlabel(\"Epoch\")\n",
        "plt.ylabel(\"Loss\")\n",
        "plt.legend()\n",
        "plt.show()\n",
        "\n",
        "# Accuracy\n",
        "plt.plot(history.history['accuracy'], label='Train Accuracy')\n",
        "plt.plot(history.history['val_accuracy'], label='Val Accuracy')\n",
        "plt.title(\"Accuracy over Epochs\")\n",
        "plt.xlabel(\"Epoch\")\n",
        "plt.ylabel(\"Accuracy\")\n",
        "plt.legend()\n",
        "plt.show()\n"
      ],
      "metadata": {
        "id": "ebon3zGU1xHl",
        "colab": {
          "base_uri": "https://localhost:8080/",
          "height": 927
        },
        "outputId": "d5367548-e0aa-40ca-efa1-c461bd56c2e9"
      },
      "execution_count": null,
      "outputs": [
        {
          "output_type": "display_data",
          "data": {
            "text/plain": [
              "<Figure size 640x480 with 1 Axes>"
            ],
            "image/png": "[encoded data removed]"
          },
          "metadata": {}
        },
        {
          "output_type": "display_data",
          "data": {
            "text/plain": [
              "<Figure size 640x480 with 1 Axes>"
            ],
            "image/png": "[encoded data removed]"
          },
          "metadata": {}
        }
      ]
    },
    {
      "cell_type": "markdown",
      "source": [
        "##lưu mô hình"
      ],
      "metadata": {
        "id": "c7dcUaXz1xis"
      }
    },
    {
      "cell_type": "code",
      "source": [
        "model.save(\"lstm_iot_attack_model.h5\")\n",
        "print(\"✅ Mô hình đã được lưu.\")"
      ],
      "metadata": {
        "id": "kU-Cxu1l1y-D"
      },
      "execution_count": null,
      "outputs": []
    }
  ]
}